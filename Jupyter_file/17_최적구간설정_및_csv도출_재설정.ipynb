{
 "cells": [
  {
   "cell_type": "code",
   "execution_count": 1,
   "id": "c51afa93",
   "metadata": {},
   "outputs": [
    {
     "data": {
      "text/html": [
       "<style>.container { width:100% !important; }</style>"
      ],
      "text/plain": [
       "<IPython.core.display.HTML object>"
      ]
     },
     "metadata": {},
     "output_type": "display_data"
    }
   ],
   "source": [
    "import pandas as pd\n",
    "import matplotlib.pyplot as plt\n",
    "import matplotlib\n",
    "import numpy as np\n",
    "\n",
    "from datetime import datetime\n",
    "\n",
    "matplotlib.rc('font', family = 'Noto Sans CJK JP')\n",
    "matplotlib.rc('axes', unicode_minus = False)\n",
    "plt.style.use(['fivethirtyeight'])\n",
    "import seaborn as sns\n",
    "\n",
    "\n",
    "\n",
    "from scipy import stats\n",
    "import scipy.stats\n",
    "from scipy.stats import shapiro\n",
    "from scipy.stats import bartlett, levene\n",
    "from statsmodels.formula.api import ols\n",
    "from statsmodels.api import qqplot, add_constant\n",
    "import statsmodels.formula.api as smf\n",
    "from statsmodels.stats.outliers_influence import variance_inflation_factor\n",
    "from sklearn.model_selection import train_test_split\n",
    "from sklearn.feature_selection import RFE\n",
    "from sklearn.preprocessing import StandardScaler\n",
    "from sklearn.metrics import r2_score\n",
    "from statsmodels.tools.eval_measures import rmse\n",
    "\n",
    "from sklearn.tree import export_graphviz\n",
    "\n",
    "import graphviz\n",
    "from sklearn.model_selection import KFold\n",
    "from sklearn.tree import DecisionTreeRegressor\n",
    "from sklearn.model_selection import GridSearchCV\n",
    "from sklearn.model_selection import RandomizedSearchCV\n",
    "from sklearn.metrics import mean_absolute_error\n",
    "from sklearn.metrics import mean_squared_error\n",
    "from IPython.core.display import display, HTML\n",
    "from sklearn.cluster import KMeans\n",
    "from yellowbrick.cluster import KElbowVisualizer\n",
    "from scipy.spatial.distance import cdist\n",
    "from scipy.cluster.hierarchy import linkage, dendrogram, fcluster\n",
    "from sklearn.cluster import AgglomerativeClustering,KMeans, DBSCAN\n",
    "from sklearn.metrics import silhouette_samples, silhouette_score\n",
    "from yellowbrick.cluster import SilhouetteVisualizer\n",
    "from dask.diagnostics import ProgressBar\n",
    "#import statsmodels.api as sm\n",
    "from statsmodels.api import Logit\n",
    "from sklearn.neighbors import KNeighborsClassifier\n",
    "\n",
    "from sklearn.ensemble import RandomForestClassifier, GradientBoostingClassifier\n",
    "import xgboost as xgb\n",
    "from sklearn.tree import DecisionTreeClassifier, export_graphviz\n",
    "from sklearn import metrics\n",
    "from sklearn.metrics import f1_score\n",
    "from sklearn.metrics import accuracy_score, f1_score\n",
    "from sklearn.metrics import confusion_matrix, classification_report\n",
    "from sklearn.metrics import accuracy_score, f1_score, f1_score, roc_curve, auc, precision_score,recall_score\n",
    "from sklearn.svm import SVC\n",
    "from sklearn.neural_network import MLPClassifier\n",
    "np.random.seed(1234)\n",
    "import pickle\n",
    "\n",
    "display(HTML(\"<style>.container { width:100% !important; }</style>\"))\n",
    "\n",
    "pd.set_option('display.float_format', '{:.2e}'.format)"
   ]
  },
  {
   "cell_type": "code",
   "execution_count": 2,
   "id": "7862b73a",
   "metadata": {},
   "outputs": [],
   "source": [
    "filename = 'rand_GB.model'\n",
    "rand_GB = pickle.load(open(filename, 'rb'))"
   ]
  },
  {
   "cell_type": "code",
   "execution_count": 3,
   "id": "70546707",
   "metadata": {},
   "outputs": [
    {
     "data": {
      "text/html": [
       "<style>#sk-container-id-1 {color: black;background-color: white;}#sk-container-id-1 pre{padding: 0;}#sk-container-id-1 div.sk-toggleable {background-color: white;}#sk-container-id-1 label.sk-toggleable__label {cursor: pointer;display: block;width: 100%;margin-bottom: 0;padding: 0.3em;box-sizing: border-box;text-align: center;}#sk-container-id-1 label.sk-toggleable__label-arrow:before {content: \"▸\";float: left;margin-right: 0.25em;color: #696969;}#sk-container-id-1 label.sk-toggleable__label-arrow:hover:before {color: black;}#sk-container-id-1 div.sk-estimator:hover label.sk-toggleable__label-arrow:before {color: black;}#sk-container-id-1 div.sk-toggleable__content {max-height: 0;max-width: 0;overflow: hidden;text-align: left;background-color: #f0f8ff;}#sk-container-id-1 div.sk-toggleable__content pre {margin: 0.2em;color: black;border-radius: 0.25em;background-color: #f0f8ff;}#sk-container-id-1 input.sk-toggleable__control:checked~div.sk-toggleable__content {max-height: 200px;max-width: 100%;overflow: auto;}#sk-container-id-1 input.sk-toggleable__control:checked~label.sk-toggleable__label-arrow:before {content: \"▾\";}#sk-container-id-1 div.sk-estimator input.sk-toggleable__control:checked~label.sk-toggleable__label {background-color: #d4ebff;}#sk-container-id-1 div.sk-label input.sk-toggleable__control:checked~label.sk-toggleable__label {background-color: #d4ebff;}#sk-container-id-1 input.sk-hidden--visually {border: 0;clip: rect(1px 1px 1px 1px);clip: rect(1px, 1px, 1px, 1px);height: 1px;margin: -1px;overflow: hidden;padding: 0;position: absolute;width: 1px;}#sk-container-id-1 div.sk-estimator {font-family: monospace;background-color: #f0f8ff;border: 1px dotted black;border-radius: 0.25em;box-sizing: border-box;margin-bottom: 0.5em;}#sk-container-id-1 div.sk-estimator:hover {background-color: #d4ebff;}#sk-container-id-1 div.sk-parallel-item::after {content: \"\";width: 100%;border-bottom: 1px solid gray;flex-grow: 1;}#sk-container-id-1 div.sk-label:hover label.sk-toggleable__label {background-color: #d4ebff;}#sk-container-id-1 div.sk-serial::before {content: \"\";position: absolute;border-left: 1px solid gray;box-sizing: border-box;top: 0;bottom: 0;left: 50%;z-index: 0;}#sk-container-id-1 div.sk-serial {display: flex;flex-direction: column;align-items: center;background-color: white;padding-right: 0.2em;padding-left: 0.2em;position: relative;}#sk-container-id-1 div.sk-item {position: relative;z-index: 1;}#sk-container-id-1 div.sk-parallel {display: flex;align-items: stretch;justify-content: center;background-color: white;position: relative;}#sk-container-id-1 div.sk-item::before, #sk-container-id-1 div.sk-parallel-item::before {content: \"\";position: absolute;border-left: 1px solid gray;box-sizing: border-box;top: 0;bottom: 0;left: 50%;z-index: -1;}#sk-container-id-1 div.sk-parallel-item {display: flex;flex-direction: column;z-index: 1;position: relative;background-color: white;}#sk-container-id-1 div.sk-parallel-item:first-child::after {align-self: flex-end;width: 50%;}#sk-container-id-1 div.sk-parallel-item:last-child::after {align-self: flex-start;width: 50%;}#sk-container-id-1 div.sk-parallel-item:only-child::after {width: 0;}#sk-container-id-1 div.sk-dashed-wrapped {border: 1px dashed gray;margin: 0 0.4em 0.5em 0.4em;box-sizing: border-box;padding-bottom: 0.4em;background-color: white;}#sk-container-id-1 div.sk-label label {font-family: monospace;font-weight: bold;display: inline-block;line-height: 1.2em;}#sk-container-id-1 div.sk-label-container {text-align: center;}#sk-container-id-1 div.sk-container {/* jupyter's `normalize.less` sets `[hidden] { display: none; }` but bootstrap.min.css set `[hidden] { display: none !important; }` so we also need the `!important` here to be able to override the default hidden behavior on the sphinx rendered scikit-learn.org. See: https://github.com/scikit-learn/scikit-learn/issues/21755 */display: inline-block !important;position: relative;}#sk-container-id-1 div.sk-text-repr-fallback {display: none;}</style><div id=\"sk-container-id-1\" class=\"sk-top-container\"><div class=\"sk-text-repr-fallback\"><pre>RandomizedSearchCV(cv=5,\n",
       "                   estimator=GradientBoostingClassifier(random_state=1234),\n",
       "                   n_iter=5000, n_jobs=-1,\n",
       "                   param_distributions={&#x27;learning_rate&#x27;: [0.1, 0.2,\n",
       "                                                          0.30000000000000004,\n",
       "                                                          0.4, 0.5,\n",
       "                                                          0.6000000000000001,\n",
       "                                                          0.7000000000000001,\n",
       "                                                          0.8, 0.9],\n",
       "                                        &#x27;max_depth&#x27;: [1, 2, 3, 4, 5, 6, 7, 8, 9,\n",
       "                                                      10],\n",
       "                                        &#x27;max_features&#x27;: [&#x27;sqrt&#x27;, &#x27;log2&#x27;],\n",
       "                                        &#x27;min_samples_leaf&#x27;: [1, 2, 3, 4, 5, 6,\n",
       "                                                             7, 8, 9],\n",
       "                                        &#x27;min_samples_split&#x27;: [4, 6, 8, 10, 12,\n",
       "                                                              14, 16, 18, 20,\n",
       "                                                              22, 24, 26, 28,\n",
       "                                                              30, 32, 34, 36,\n",
       "                                                              38],\n",
       "                                        &#x27;n_estimators&#x27;: [10, 20, 30, 40, 50, 60,\n",
       "                                                         70, 80, 90, 100]})</pre><b>In a Jupyter environment, please rerun this cell to show the HTML representation or trust the notebook. <br />On GitHub, the HTML representation is unable to render, please try loading this page with nbviewer.org.</b></div><div class=\"sk-container\" hidden><div class=\"sk-item sk-dashed-wrapped\"><div class=\"sk-label-container\"><div class=\"sk-label sk-toggleable\"><input class=\"sk-toggleable__control sk-hidden--visually\" id=\"sk-estimator-id-1\" type=\"checkbox\" ><label for=\"sk-estimator-id-1\" class=\"sk-toggleable__label sk-toggleable__label-arrow\">RandomizedSearchCV</label><div class=\"sk-toggleable__content\"><pre>RandomizedSearchCV(cv=5,\n",
       "                   estimator=GradientBoostingClassifier(random_state=1234),\n",
       "                   n_iter=5000, n_jobs=-1,\n",
       "                   param_distributions={&#x27;learning_rate&#x27;: [0.1, 0.2,\n",
       "                                                          0.30000000000000004,\n",
       "                                                          0.4, 0.5,\n",
       "                                                          0.6000000000000001,\n",
       "                                                          0.7000000000000001,\n",
       "                                                          0.8, 0.9],\n",
       "                                        &#x27;max_depth&#x27;: [1, 2, 3, 4, 5, 6, 7, 8, 9,\n",
       "                                                      10],\n",
       "                                        &#x27;max_features&#x27;: [&#x27;sqrt&#x27;, &#x27;log2&#x27;],\n",
       "                                        &#x27;min_samples_leaf&#x27;: [1, 2, 3, 4, 5, 6,\n",
       "                                                             7, 8, 9],\n",
       "                                        &#x27;min_samples_split&#x27;: [4, 6, 8, 10, 12,\n",
       "                                                              14, 16, 18, 20,\n",
       "                                                              22, 24, 26, 28,\n",
       "                                                              30, 32, 34, 36,\n",
       "                                                              38],\n",
       "                                        &#x27;n_estimators&#x27;: [10, 20, 30, 40, 50, 60,\n",
       "                                                         70, 80, 90, 100]})</pre></div></div></div><div class=\"sk-parallel\"><div class=\"sk-parallel-item\"><div class=\"sk-item\"><div class=\"sk-label-container\"><div class=\"sk-label sk-toggleable\"><input class=\"sk-toggleable__control sk-hidden--visually\" id=\"sk-estimator-id-2\" type=\"checkbox\" ><label for=\"sk-estimator-id-2\" class=\"sk-toggleable__label sk-toggleable__label-arrow\">estimator: GradientBoostingClassifier</label><div class=\"sk-toggleable__content\"><pre>GradientBoostingClassifier(random_state=1234)</pre></div></div></div><div class=\"sk-serial\"><div class=\"sk-item\"><div class=\"sk-estimator sk-toggleable\"><input class=\"sk-toggleable__control sk-hidden--visually\" id=\"sk-estimator-id-3\" type=\"checkbox\" ><label for=\"sk-estimator-id-3\" class=\"sk-toggleable__label sk-toggleable__label-arrow\">GradientBoostingClassifier</label><div class=\"sk-toggleable__content\"><pre>GradientBoostingClassifier(random_state=1234)</pre></div></div></div></div></div></div></div></div></div></div>"
      ],
      "text/plain": [
       "RandomizedSearchCV(cv=5,\n",
       "                   estimator=GradientBoostingClassifier(random_state=1234),\n",
       "                   n_iter=5000, n_jobs=-1,\n",
       "                   param_distributions={'learning_rate': [0.1, 0.2,\n",
       "                                                          0.30000000000000004,\n",
       "                                                          0.4, 0.5,\n",
       "                                                          0.6000000000000001,\n",
       "                                                          0.7000000000000001,\n",
       "                                                          0.8, 0.9],\n",
       "                                        'max_depth': [1, 2, 3, 4, 5, 6, 7, 8, 9,\n",
       "                                                      10],\n",
       "                                        'max_features': ['sqrt', 'log2'],\n",
       "                                        'min_samples_leaf': [1, 2, 3, 4, 5, 6,\n",
       "                                                             7, 8, 9],\n",
       "                                        'min_samples_split': [4, 6, 8, 10, 12,\n",
       "                                                              14, 16, 18, 20,\n",
       "                                                              22, 24, 26, 28,\n",
       "                                                              30, 32, 34, 36,\n",
       "                                                              38],\n",
       "                                        'n_estimators': [10, 20, 30, 40, 50, 60,\n",
       "                                                         70, 80, 90, 100]})"
      ]
     },
     "execution_count": 3,
     "metadata": {},
     "output_type": "execute_result"
    }
   ],
   "source": [
    "rand_GB"
   ]
  },
  {
   "cell_type": "code",
   "execution_count": 4,
   "id": "2c7d0b91",
   "metadata": {},
   "outputs": [],
   "source": [
    "df = pd.read_csv('final_merged_dataset.csv')"
   ]
  },
  {
   "cell_type": "code",
   "execution_count": 5,
   "id": "bdeef390",
   "metadata": {
    "scrolled": true
   },
   "outputs": [
    {
     "data": {
      "text/html": [
       "<div>\n",
       "<style scoped>\n",
       "    .dataframe tbody tr th:only-of-type {\n",
       "        vertical-align: middle;\n",
       "    }\n",
       "\n",
       "    .dataframe tbody tr th {\n",
       "        vertical-align: top;\n",
       "    }\n",
       "\n",
       "    .dataframe thead th {\n",
       "        text-align: right;\n",
       "    }\n",
       "</style>\n",
       "<table border=\"1\" class=\"dataframe\">\n",
       "  <thead>\n",
       "    <tr style=\"text-align: right;\">\n",
       "      <th></th>\n",
       "      <th>No_Die</th>\n",
       "      <th>Ox_Chamber</th>\n",
       "      <th>process</th>\n",
       "      <th>type</th>\n",
       "      <th>Temp_OXid</th>\n",
       "      <th>Vapor</th>\n",
       "      <th>ppm</th>\n",
       "      <th>Pressure</th>\n",
       "      <th>Oxid_time</th>\n",
       "      <th>thickness</th>\n",
       "      <th>...</th>\n",
       "      <th>Furance_Temp</th>\n",
       "      <th>RTA_Temp</th>\n",
       "      <th>count_ion</th>\n",
       "      <th>Target</th>\n",
       "      <th>Error_message</th>\n",
       "      <th>Wafer_map</th>\n",
       "      <th>chamber_total_count</th>\n",
       "      <th>chamber_path</th>\n",
       "      <th>defective</th>\n",
       "      <th>defective_chip_rate</th>\n",
       "    </tr>\n",
       "  </thead>\n",
       "  <tbody>\n",
       "    <tr>\n",
       "      <th>0</th>\n",
       "      <td>NOLSM325131325</td>\n",
       "      <td>2</td>\n",
       "      <td>Oxidation</td>\n",
       "      <td>dry</td>\n",
       "      <td>1.21e+03</td>\n",
       "      <td>O2</td>\n",
       "      <td>2.67e+01</td>\n",
       "      <td>2.03e-01</td>\n",
       "      <td>120</td>\n",
       "      <td>7.13e+02</td>\n",
       "      <td>...</td>\n",
       "      <td>8.54e+02</td>\n",
       "      <td>154</td>\n",
       "      <td>582</td>\n",
       "      <td>141</td>\n",
       "      <td>none</td>\n",
       "      <td>[[0 0 0 0 0 0 0 0 0 0 1 2 1 1 1 2 0 0 0 0 0 0 ...</td>\n",
       "      <td>2907</td>\n",
       "      <td>21111</td>\n",
       "      <td>0</td>\n",
       "      <td>7.05e-02</td>\n",
       "    </tr>\n",
       "    <tr>\n",
       "      <th>1</th>\n",
       "      <td>NOLSM326132326</td>\n",
       "      <td>2</td>\n",
       "      <td>Oxidation</td>\n",
       "      <td>dry</td>\n",
       "      <td>9.78e+02</td>\n",
       "      <td>O2</td>\n",
       "      <td>3.09e+01</td>\n",
       "      <td>2.17e-01</td>\n",
       "      <td>137</td>\n",
       "      <td>7.14e+02</td>\n",
       "      <td>...</td>\n",
       "      <td>8.95e+02</td>\n",
       "      <td>156</td>\n",
       "      <td>542</td>\n",
       "      <td>55</td>\n",
       "      <td>none</td>\n",
       "      <td>[[0 0 0 0 0 0 0 0 0 0 2 2 2 2 1 2 0 0 0 0 0 0 ...</td>\n",
       "      <td>2819</td>\n",
       "      <td>21122</td>\n",
       "      <td>0</td>\n",
       "      <td>2.75e-02</td>\n",
       "    </tr>\n",
       "    <tr>\n",
       "      <th>2</th>\n",
       "      <td>NOLSM327133327</td>\n",
       "      <td>2</td>\n",
       "      <td>Oxidation</td>\n",
       "      <td>dry</td>\n",
       "      <td>1.18e+03</td>\n",
       "      <td>O2</td>\n",
       "      <td>3.11e+01</td>\n",
       "      <td>2.18e-01</td>\n",
       "      <td>116</td>\n",
       "      <td>7.10e+02</td>\n",
       "      <td>...</td>\n",
       "      <td>8.98e+02</td>\n",
       "      <td>152</td>\n",
       "      <td>550</td>\n",
       "      <td>96</td>\n",
       "      <td>none</td>\n",
       "      <td>[[0 0 0 0 0 0 0 0 0 0 1 2 1 1 1 2 0 0 0 0 0 0 ...</td>\n",
       "      <td>2847</td>\n",
       "      <td>21133</td>\n",
       "      <td>0</td>\n",
       "      <td>4.80e-02</td>\n",
       "    </tr>\n",
       "    <tr>\n",
       "      <th>3</th>\n",
       "      <td>NOLSM328134328</td>\n",
       "      <td>2</td>\n",
       "      <td>Oxidation</td>\n",
       "      <td>dry</td>\n",
       "      <td>9.33e+02</td>\n",
       "      <td>O2</td>\n",
       "      <td>3.10e+01</td>\n",
       "      <td>1.96e-01</td>\n",
       "      <td>143</td>\n",
       "      <td>7.11e+02</td>\n",
       "      <td>...</td>\n",
       "      <td>8.79e+02</td>\n",
       "      <td>155</td>\n",
       "      <td>582</td>\n",
       "      <td>105</td>\n",
       "      <td>none</td>\n",
       "      <td>[[0 0 0 0 0 0 0 0 0 0 2 1 1 1 1 2 0 0 0 0 0 0 ...</td>\n",
       "      <td>2907</td>\n",
       "      <td>21111</td>\n",
       "      <td>0</td>\n",
       "      <td>5.25e-02</td>\n",
       "    </tr>\n",
       "    <tr>\n",
       "      <th>4</th>\n",
       "      <td>NOLSM329135329</td>\n",
       "      <td>2</td>\n",
       "      <td>Oxidation</td>\n",
       "      <td>wet</td>\n",
       "      <td>1.14e+03</td>\n",
       "      <td>H2O</td>\n",
       "      <td>3.14e+01</td>\n",
       "      <td>2.15e-01</td>\n",
       "      <td>76</td>\n",
       "      <td>7.12e+02</td>\n",
       "      <td>...</td>\n",
       "      <td>8.82e+02</td>\n",
       "      <td>155</td>\n",
       "      <td>542</td>\n",
       "      <td>79</td>\n",
       "      <td>none</td>\n",
       "      <td>[[0 0 0 0 0 0 0 0 0 0 1 1 1 1 1 1 0 0 0 0 0 0 ...</td>\n",
       "      <td>2819</td>\n",
       "      <td>21122</td>\n",
       "      <td>0</td>\n",
       "      <td>3.95e-02</td>\n",
       "    </tr>\n",
       "    <tr>\n",
       "      <th>...</th>\n",
       "      <td>...</td>\n",
       "      <td>...</td>\n",
       "      <td>...</td>\n",
       "      <td>...</td>\n",
       "      <td>...</td>\n",
       "      <td>...</td>\n",
       "      <td>...</td>\n",
       "      <td>...</td>\n",
       "      <td>...</td>\n",
       "      <td>...</td>\n",
       "      <td>...</td>\n",
       "      <td>...</td>\n",
       "      <td>...</td>\n",
       "      <td>...</td>\n",
       "      <td>...</td>\n",
       "      <td>...</td>\n",
       "      <td>...</td>\n",
       "      <td>...</td>\n",
       "      <td>...</td>\n",
       "      <td>...</td>\n",
       "      <td>...</td>\n",
       "    </tr>\n",
       "    <tr>\n",
       "      <th>1653</th>\n",
       "      <td>NOLSM3081211</td>\n",
       "      <td>1</td>\n",
       "      <td>Oxidation</td>\n",
       "      <td>dry</td>\n",
       "      <td>1.16e+03</td>\n",
       "      <td>O2</td>\n",
       "      <td>3.46e+01</td>\n",
       "      <td>1.99e-01</td>\n",
       "      <td>18</td>\n",
       "      <td>7.10e+02</td>\n",
       "      <td>...</td>\n",
       "      <td>8.83e+02</td>\n",
       "      <td>153</td>\n",
       "      <td>582</td>\n",
       "      <td>105</td>\n",
       "      <td>none</td>\n",
       "      <td>[[0 0 0 0 0 0 0 0 0 0 1 2 2 1 1 1 0 0 0 0 0 0 ...</td>\n",
       "      <td>2902</td>\n",
       "      <td>13311</td>\n",
       "      <td>0</td>\n",
       "      <td>5.25e-02</td>\n",
       "    </tr>\n",
       "    <tr>\n",
       "      <th>1654</th>\n",
       "      <td>NOLSM8493212</td>\n",
       "      <td>1</td>\n",
       "      <td>Oxidation</td>\n",
       "      <td>wet</td>\n",
       "      <td>1.27e+03</td>\n",
       "      <td>H2O</td>\n",
       "      <td>4.51e+01</td>\n",
       "      <td>2.15e-01</td>\n",
       "      <td>22</td>\n",
       "      <td>7.07e+02</td>\n",
       "      <td>...</td>\n",
       "      <td>8.67e+02</td>\n",
       "      <td>152</td>\n",
       "      <td>550</td>\n",
       "      <td>42</td>\n",
       "      <td>none</td>\n",
       "      <td>[[0 0 0 0 0 0 0 0 0 0 2 2 2 2 1 1 0 0 0 0 0 0 ...</td>\n",
       "      <td>2878</td>\n",
       "      <td>11133</td>\n",
       "      <td>0</td>\n",
       "      <td>2.10e-02</td>\n",
       "    </tr>\n",
       "    <tr>\n",
       "      <th>1655</th>\n",
       "      <td>NOLSM8503213</td>\n",
       "      <td>1</td>\n",
       "      <td>Oxidation</td>\n",
       "      <td>wet</td>\n",
       "      <td>1.28e+03</td>\n",
       "      <td>H2O</td>\n",
       "      <td>4.51e+01</td>\n",
       "      <td>2.14e-01</td>\n",
       "      <td>21</td>\n",
       "      <td>7.13e+02</td>\n",
       "      <td>...</td>\n",
       "      <td>8.68e+02</td>\n",
       "      <td>152</td>\n",
       "      <td>542</td>\n",
       "      <td>42</td>\n",
       "      <td>none</td>\n",
       "      <td>[[0 0 0 0 0 0 0 0 0 0 1 1 1 1 2 1 0 0 0 0 0 0 ...</td>\n",
       "      <td>2821</td>\n",
       "      <td>11222</td>\n",
       "      <td>0</td>\n",
       "      <td>2.10e-02</td>\n",
       "    </tr>\n",
       "    <tr>\n",
       "      <th>1656</th>\n",
       "      <td>NOLSM8513214</td>\n",
       "      <td>1</td>\n",
       "      <td>Oxidation</td>\n",
       "      <td>wet</td>\n",
       "      <td>1.27e+03</td>\n",
       "      <td>H2O</td>\n",
       "      <td>4.53e+01</td>\n",
       "      <td>2.13e-01</td>\n",
       "      <td>20</td>\n",
       "      <td>7.12e+02</td>\n",
       "      <td>...</td>\n",
       "      <td>8.68e+02</td>\n",
       "      <td>152</td>\n",
       "      <td>582</td>\n",
       "      <td>24</td>\n",
       "      <td>none</td>\n",
       "      <td>[[0 0 0 0 0 0 0 0 0 0 2 1 2 2 2 1 0 0 0 0 0 0 ...</td>\n",
       "      <td>2938</td>\n",
       "      <td>11311</td>\n",
       "      <td>0</td>\n",
       "      <td>1.20e-02</td>\n",
       "    </tr>\n",
       "    <tr>\n",
       "      <th>1657</th>\n",
       "      <td>NOLSM8523215</td>\n",
       "      <td>1</td>\n",
       "      <td>Oxidation</td>\n",
       "      <td>wet</td>\n",
       "      <td>1.28e+03</td>\n",
       "      <td>H2O</td>\n",
       "      <td>4.53e+01</td>\n",
       "      <td>2.15e-01</td>\n",
       "      <td>22</td>\n",
       "      <td>7.16e+02</td>\n",
       "      <td>...</td>\n",
       "      <td>8.68e+02</td>\n",
       "      <td>152</td>\n",
       "      <td>582</td>\n",
       "      <td>84</td>\n",
       "      <td>none</td>\n",
       "      <td>[[0 0 0 0 0 0 0 0 0 0 2 2 2 2 2 1 0 0 0 0 0 0 ...</td>\n",
       "      <td>2917</td>\n",
       "      <td>12111</td>\n",
       "      <td>0</td>\n",
       "      <td>4.20e-02</td>\n",
       "    </tr>\n",
       "  </tbody>\n",
       "</table>\n",
       "<p>1658 rows × 66 columns</p>\n",
       "</div>"
      ],
      "text/plain": [
       "              No_Die  Ox_Chamber    process type  Temp_OXid Vapor      ppm  \\\n",
       "0     NOLSM325131325           2  Oxidation  dry   1.21e+03    O2 2.67e+01   \n",
       "1     NOLSM326132326           2  Oxidation  dry   9.78e+02    O2 3.09e+01   \n",
       "2     NOLSM327133327           2  Oxidation  dry   1.18e+03    O2 3.11e+01   \n",
       "3     NOLSM328134328           2  Oxidation  dry   9.33e+02    O2 3.10e+01   \n",
       "4     NOLSM329135329           2  Oxidation  wet   1.14e+03   H2O 3.14e+01   \n",
       "...              ...         ...        ...  ...        ...   ...      ...   \n",
       "1653    NOLSM3081211           1  Oxidation  dry   1.16e+03    O2 3.46e+01   \n",
       "1654    NOLSM8493212           1  Oxidation  wet   1.27e+03   H2O 4.51e+01   \n",
       "1655    NOLSM8503213           1  Oxidation  wet   1.28e+03   H2O 4.51e+01   \n",
       "1656    NOLSM8513214           1  Oxidation  wet   1.27e+03   H2O 4.53e+01   \n",
       "1657    NOLSM8523215           1  Oxidation  wet   1.28e+03   H2O 4.53e+01   \n",
       "\n",
       "      Pressure  Oxid_time  thickness  ...  Furance_Temp  RTA_Temp count_ion  \\\n",
       "0     2.03e-01        120   7.13e+02  ...      8.54e+02       154       582   \n",
       "1     2.17e-01        137   7.14e+02  ...      8.95e+02       156       542   \n",
       "2     2.18e-01        116   7.10e+02  ...      8.98e+02       152       550   \n",
       "3     1.96e-01        143   7.11e+02  ...      8.79e+02       155       582   \n",
       "4     2.15e-01         76   7.12e+02  ...      8.82e+02       155       542   \n",
       "...        ...        ...        ...  ...           ...       ...       ...   \n",
       "1653  1.99e-01         18   7.10e+02  ...      8.83e+02       153       582   \n",
       "1654  2.15e-01         22   7.07e+02  ...      8.67e+02       152       550   \n",
       "1655  2.14e-01         21   7.13e+02  ...      8.68e+02       152       542   \n",
       "1656  2.13e-01         20   7.12e+02  ...      8.68e+02       152       582   \n",
       "1657  2.15e-01         22   7.16e+02  ...      8.68e+02       152       582   \n",
       "\n",
       "      Target  Error_message  \\\n",
       "0        141           none   \n",
       "1         55           none   \n",
       "2         96           none   \n",
       "3        105           none   \n",
       "4         79           none   \n",
       "...      ...            ...   \n",
       "1653     105           none   \n",
       "1654      42           none   \n",
       "1655      42           none   \n",
       "1656      24           none   \n",
       "1657      84           none   \n",
       "\n",
       "                                              Wafer_map  chamber_total_count  \\\n",
       "0     [[0 0 0 0 0 0 0 0 0 0 1 2 1 1 1 2 0 0 0 0 0 0 ...                 2907   \n",
       "1     [[0 0 0 0 0 0 0 0 0 0 2 2 2 2 1 2 0 0 0 0 0 0 ...                 2819   \n",
       "2     [[0 0 0 0 0 0 0 0 0 0 1 2 1 1 1 2 0 0 0 0 0 0 ...                 2847   \n",
       "3     [[0 0 0 0 0 0 0 0 0 0 2 1 1 1 1 2 0 0 0 0 0 0 ...                 2907   \n",
       "4     [[0 0 0 0 0 0 0 0 0 0 1 1 1 1 1 1 0 0 0 0 0 0 ...                 2819   \n",
       "...                                                 ...                  ...   \n",
       "1653  [[0 0 0 0 0 0 0 0 0 0 1 2 2 1 1 1 0 0 0 0 0 0 ...                 2902   \n",
       "1654  [[0 0 0 0 0 0 0 0 0 0 2 2 2 2 1 1 0 0 0 0 0 0 ...                 2878   \n",
       "1655  [[0 0 0 0 0 0 0 0 0 0 1 1 1 1 2 1 0 0 0 0 0 0 ...                 2821   \n",
       "1656  [[0 0 0 0 0 0 0 0 0 0 2 1 2 2 2 1 0 0 0 0 0 0 ...                 2938   \n",
       "1657  [[0 0 0 0 0 0 0 0 0 0 2 2 2 2 2 1 0 0 0 0 0 0 ...                 2917   \n",
       "\n",
       "      chamber_path  defective  defective_chip_rate  \n",
       "0            21111          0             7.05e-02  \n",
       "1            21122          0             2.75e-02  \n",
       "2            21133          0             4.80e-02  \n",
       "3            21111          0             5.25e-02  \n",
       "4            21122          0             3.95e-02  \n",
       "...            ...        ...                  ...  \n",
       "1653         13311          0             5.25e-02  \n",
       "1654         11133          0             2.10e-02  \n",
       "1655         11222          0             2.10e-02  \n",
       "1656         11311          0             1.20e-02  \n",
       "1657         12111          0             4.20e-02  \n",
       "\n",
       "[1658 rows x 66 columns]"
      ]
     },
     "execution_count": 5,
     "metadata": {},
     "output_type": "execute_result"
    }
   ],
   "source": [
    "df"
   ]
  },
  {
   "cell_type": "code",
   "execution_count": 9,
   "id": "524571b5",
   "metadata": {},
   "outputs": [],
   "source": [
    "temp_df = df[['temp_softbake', 'Flux90s', 'Selectivity', 'spin1','Temp_OXid', 'Source_Power', 'defective']]"
   ]
  },
  {
   "cell_type": "code",
   "execution_count": 10,
   "id": "f35a3e7b",
   "metadata": {},
   "outputs": [
    {
     "data": {
      "text/html": [
       "<div>\n",
       "<style scoped>\n",
       "    .dataframe tbody tr th:only-of-type {\n",
       "        vertical-align: middle;\n",
       "    }\n",
       "\n",
       "    .dataframe tbody tr th {\n",
       "        vertical-align: top;\n",
       "    }\n",
       "\n",
       "    .dataframe thead th {\n",
       "        text-align: right;\n",
       "    }\n",
       "</style>\n",
       "<table border=\"1\" class=\"dataframe\">\n",
       "  <thead>\n",
       "    <tr style=\"text-align: right;\">\n",
       "      <th></th>\n",
       "      <th>temp_softbake</th>\n",
       "      <th>Flux90s</th>\n",
       "      <th>Selectivity</th>\n",
       "      <th>spin1</th>\n",
       "      <th>Temp_OXid</th>\n",
       "      <th>Source_Power</th>\n",
       "      <th>defective</th>\n",
       "    </tr>\n",
       "  </thead>\n",
       "  <tbody>\n",
       "    <tr>\n",
       "      <th>0</th>\n",
       "      <td>9.19e+01</td>\n",
       "      <td>1.32e+17</td>\n",
       "      <td>1.03e+00</td>\n",
       "      <td>5.02e+02</td>\n",
       "      <td>1.21e+03</td>\n",
       "      <td>5.21e+01</td>\n",
       "      <td>0</td>\n",
       "    </tr>\n",
       "    <tr>\n",
       "      <th>1</th>\n",
       "      <td>9.10e+01</td>\n",
       "      <td>4.37e+16</td>\n",
       "      <td>1.04e+00</td>\n",
       "      <td>5.07e+02</td>\n",
       "      <td>9.78e+02</td>\n",
       "      <td>5.20e+01</td>\n",
       "      <td>0</td>\n",
       "    </tr>\n",
       "    <tr>\n",
       "      <th>2</th>\n",
       "      <td>9.20e+01</td>\n",
       "      <td>1.51e+16</td>\n",
       "      <td>1.00e+00</td>\n",
       "      <td>5.01e+02</td>\n",
       "      <td>1.18e+03</td>\n",
       "      <td>5.08e+01</td>\n",
       "      <td>0</td>\n",
       "    </tr>\n",
       "    <tr>\n",
       "      <th>3</th>\n",
       "      <td>9.15e+01</td>\n",
       "      <td>1.02e+17</td>\n",
       "      <td>1.02e+00</td>\n",
       "      <td>5.03e+02</td>\n",
       "      <td>9.33e+02</td>\n",
       "      <td>5.17e+01</td>\n",
       "      <td>0</td>\n",
       "    </tr>\n",
       "    <tr>\n",
       "      <th>4</th>\n",
       "      <td>9.47e+01</td>\n",
       "      <td>7.88e+16</td>\n",
       "      <td>1.04e+00</td>\n",
       "      <td>5.01e+02</td>\n",
       "      <td>1.14e+03</td>\n",
       "      <td>5.08e+01</td>\n",
       "      <td>0</td>\n",
       "    </tr>\n",
       "    <tr>\n",
       "      <th>...</th>\n",
       "      <td>...</td>\n",
       "      <td>...</td>\n",
       "      <td>...</td>\n",
       "      <td>...</td>\n",
       "      <td>...</td>\n",
       "      <td>...</td>\n",
       "      <td>...</td>\n",
       "    </tr>\n",
       "    <tr>\n",
       "      <th>1653</th>\n",
       "      <td>9.25e+01</td>\n",
       "      <td>1.15e+17</td>\n",
       "      <td>1.00e+00</td>\n",
       "      <td>4.98e+02</td>\n",
       "      <td>1.16e+03</td>\n",
       "      <td>5.12e+01</td>\n",
       "      <td>0</td>\n",
       "    </tr>\n",
       "    <tr>\n",
       "      <th>1654</th>\n",
       "      <td>9.32e+01</td>\n",
       "      <td>5.43e+16</td>\n",
       "      <td>1.01e+00</td>\n",
       "      <td>5.04e+02</td>\n",
       "      <td>1.27e+03</td>\n",
       "      <td>5.04e+01</td>\n",
       "      <td>0</td>\n",
       "    </tr>\n",
       "    <tr>\n",
       "      <th>1655</th>\n",
       "      <td>9.35e+01</td>\n",
       "      <td>7.67e+15</td>\n",
       "      <td>1.01e+00</td>\n",
       "      <td>5.03e+02</td>\n",
       "      <td>1.28e+03</td>\n",
       "      <td>5.06e+01</td>\n",
       "      <td>0</td>\n",
       "    </tr>\n",
       "    <tr>\n",
       "      <th>1656</th>\n",
       "      <td>9.35e+01</td>\n",
       "      <td>2.79e+16</td>\n",
       "      <td>1.01e+00</td>\n",
       "      <td>5.04e+02</td>\n",
       "      <td>1.27e+03</td>\n",
       "      <td>5.05e+01</td>\n",
       "      <td>0</td>\n",
       "    </tr>\n",
       "    <tr>\n",
       "      <th>1657</th>\n",
       "      <td>9.34e+01</td>\n",
       "      <td>1.50e+17</td>\n",
       "      <td>1.01e+00</td>\n",
       "      <td>5.04e+02</td>\n",
       "      <td>1.28e+03</td>\n",
       "      <td>5.06e+01</td>\n",
       "      <td>0</td>\n",
       "    </tr>\n",
       "  </tbody>\n",
       "</table>\n",
       "<p>1658 rows × 7 columns</p>\n",
       "</div>"
      ],
      "text/plain": [
       "      temp_softbake  Flux90s  Selectivity    spin1  Temp_OXid  Source_Power  \\\n",
       "0          9.19e+01 1.32e+17     1.03e+00 5.02e+02   1.21e+03      5.21e+01   \n",
       "1          9.10e+01 4.37e+16     1.04e+00 5.07e+02   9.78e+02      5.20e+01   \n",
       "2          9.20e+01 1.51e+16     1.00e+00 5.01e+02   1.18e+03      5.08e+01   \n",
       "3          9.15e+01 1.02e+17     1.02e+00 5.03e+02   9.33e+02      5.17e+01   \n",
       "4          9.47e+01 7.88e+16     1.04e+00 5.01e+02   1.14e+03      5.08e+01   \n",
       "...             ...      ...          ...      ...        ...           ...   \n",
       "1653       9.25e+01 1.15e+17     1.00e+00 4.98e+02   1.16e+03      5.12e+01   \n",
       "1654       9.32e+01 5.43e+16     1.01e+00 5.04e+02   1.27e+03      5.04e+01   \n",
       "1655       9.35e+01 7.67e+15     1.01e+00 5.03e+02   1.28e+03      5.06e+01   \n",
       "1656       9.35e+01 2.79e+16     1.01e+00 5.04e+02   1.27e+03      5.05e+01   \n",
       "1657       9.34e+01 1.50e+17     1.01e+00 5.04e+02   1.28e+03      5.06e+01   \n",
       "\n",
       "      defective  \n",
       "0             0  \n",
       "1             0  \n",
       "2             0  \n",
       "3             0  \n",
       "4             0  \n",
       "...         ...  \n",
       "1653          0  \n",
       "1654          0  \n",
       "1655          0  \n",
       "1656          0  \n",
       "1657          0  \n",
       "\n",
       "[1658 rows x 7 columns]"
      ]
     },
     "execution_count": 10,
     "metadata": {},
     "output_type": "execute_result"
    }
   ],
   "source": [
    "temp_df"
   ]
  },
  {
   "cell_type": "code",
   "execution_count": 11,
   "id": "b3fc7beb",
   "metadata": {},
   "outputs": [
    {
     "data": {
      "text/html": [
       "<div>\n",
       "<style scoped>\n",
       "    .dataframe tbody tr th:only-of-type {\n",
       "        vertical-align: middle;\n",
       "    }\n",
       "\n",
       "    .dataframe tbody tr th {\n",
       "        vertical-align: top;\n",
       "    }\n",
       "\n",
       "    .dataframe thead th {\n",
       "        text-align: right;\n",
       "    }\n",
       "</style>\n",
       "<table border=\"1\" class=\"dataframe\">\n",
       "  <thead>\n",
       "    <tr style=\"text-align: right;\">\n",
       "      <th></th>\n",
       "      <th>temp_softbake</th>\n",
       "      <th>Flux90s</th>\n",
       "      <th>Selectivity</th>\n",
       "      <th>spin1</th>\n",
       "      <th>Temp_OXid</th>\n",
       "      <th>Source_Power</th>\n",
       "      <th>defective</th>\n",
       "    </tr>\n",
       "  </thead>\n",
       "  <tbody>\n",
       "    <tr>\n",
       "      <th>count</th>\n",
       "      <td>1.66e+03</td>\n",
       "      <td>1.66e+03</td>\n",
       "      <td>1.66e+03</td>\n",
       "      <td>1.66e+03</td>\n",
       "      <td>1.66e+03</td>\n",
       "      <td>1.66e+03</td>\n",
       "      <td>1.66e+03</td>\n",
       "    </tr>\n",
       "    <tr>\n",
       "      <th>mean</th>\n",
       "      <td>9.20e+01</td>\n",
       "      <td>8.07e+16</td>\n",
       "      <td>1.03e+00</td>\n",
       "      <td>5.01e+02</td>\n",
       "      <td>1.07e+03</td>\n",
       "      <td>5.12e+01</td>\n",
       "      <td>7.30e-02</td>\n",
       "    </tr>\n",
       "    <tr>\n",
       "      <th>std</th>\n",
       "      <td>1.46e+00</td>\n",
       "      <td>5.43e+16</td>\n",
       "      <td>1.65e-02</td>\n",
       "      <td>2.99e+00</td>\n",
       "      <td>1.50e+02</td>\n",
       "      <td>6.43e-01</td>\n",
       "      <td>2.60e-01</td>\n",
       "    </tr>\n",
       "    <tr>\n",
       "      <th>min</th>\n",
       "      <td>8.65e+01</td>\n",
       "      <td>3.85e+09</td>\n",
       "      <td>9.84e-01</td>\n",
       "      <td>4.92e+02</td>\n",
       "      <td>8.62e+02</td>\n",
       "      <td>4.93e+01</td>\n",
       "      <td>0.00e+00</td>\n",
       "    </tr>\n",
       "    <tr>\n",
       "      <th>25%</th>\n",
       "      <td>9.11e+01</td>\n",
       "      <td>3.26e+16</td>\n",
       "      <td>1.02e+00</td>\n",
       "      <td>4.99e+02</td>\n",
       "      <td>8.89e+02</td>\n",
       "      <td>5.08e+01</td>\n",
       "      <td>0.00e+00</td>\n",
       "    </tr>\n",
       "    <tr>\n",
       "      <th>50%</th>\n",
       "      <td>9.20e+01</td>\n",
       "      <td>8.25e+16</td>\n",
       "      <td>1.03e+00</td>\n",
       "      <td>5.01e+02</td>\n",
       "      <td>1.07e+03</td>\n",
       "      <td>5.12e+01</td>\n",
       "      <td>0.00e+00</td>\n",
       "    </tr>\n",
       "    <tr>\n",
       "      <th>75%</th>\n",
       "      <td>9.30e+01</td>\n",
       "      <td>1.22e+17</td>\n",
       "      <td>1.04e+00</td>\n",
       "      <td>5.03e+02</td>\n",
       "      <td>1.19e+03</td>\n",
       "      <td>5.17e+01</td>\n",
       "      <td>0.00e+00</td>\n",
       "    </tr>\n",
       "    <tr>\n",
       "      <th>max</th>\n",
       "      <td>9.67e+01</td>\n",
       "      <td>2.72e+17</td>\n",
       "      <td>1.08e+00</td>\n",
       "      <td>5.09e+02</td>\n",
       "      <td>1.31e+03</td>\n",
       "      <td>5.33e+01</td>\n",
       "      <td>1.00e+00</td>\n",
       "    </tr>\n",
       "  </tbody>\n",
       "</table>\n",
       "</div>"
      ],
      "text/plain": [
       "       temp_softbake  Flux90s  Selectivity    spin1  Temp_OXid  Source_Power  \\\n",
       "count       1.66e+03 1.66e+03     1.66e+03 1.66e+03   1.66e+03      1.66e+03   \n",
       "mean        9.20e+01 8.07e+16     1.03e+00 5.01e+02   1.07e+03      5.12e+01   \n",
       "std         1.46e+00 5.43e+16     1.65e-02 2.99e+00   1.50e+02      6.43e-01   \n",
       "min         8.65e+01 3.85e+09     9.84e-01 4.92e+02   8.62e+02      4.93e+01   \n",
       "25%         9.11e+01 3.26e+16     1.02e+00 4.99e+02   8.89e+02      5.08e+01   \n",
       "50%         9.20e+01 8.25e+16     1.03e+00 5.01e+02   1.07e+03      5.12e+01   \n",
       "75%         9.30e+01 1.22e+17     1.04e+00 5.03e+02   1.19e+03      5.17e+01   \n",
       "max         9.67e+01 2.72e+17     1.08e+00 5.09e+02   1.31e+03      5.33e+01   \n",
       "\n",
       "       defective  \n",
       "count   1.66e+03  \n",
       "mean    7.30e-02  \n",
       "std     2.60e-01  \n",
       "min     0.00e+00  \n",
       "25%     0.00e+00  \n",
       "50%     0.00e+00  \n",
       "75%     0.00e+00  \n",
       "max     1.00e+00  "
      ]
     },
     "execution_count": 11,
     "metadata": {},
     "output_type": "execute_result"
    }
   ],
   "source": [
    "temp_df.describe()"
   ]
  },
  {
   "cell_type": "code",
   "execution_count": 27,
   "id": "080aea2a",
   "metadata": {
    "scrolled": false
   },
   "outputs": [
    {
     "data": {
      "image/png": "[encoded data removed]",
      "text/plain": [
       "<Figure size 960x960 with 1 Axes>"
      ]
     },
     "metadata": {},
     "output_type": "display_data"
    },
    {
     "data": {
      "image/png": "[encoded data removed]",
      "text/plain": [
       "<Figure size 960x960 with 1 Axes>"
      ]
     },
     "metadata": {},
     "output_type": "display_data"
    },
    {
     "data": {
      "image/png": "[encoded data removed]",
      "text/plain": [
       "<Figure size 960x960 with 1 Axes>"
      ]
     },
     "metadata": {},
     "output_type": "display_data"
    },
    {
     "data": {
      "image/png": "[encoded data removed]",
      "text/plain": [
       "<Figure size 960x960 with 1 Axes>"
      ]
     },
     "metadata": {},
     "output_type": "display_data"
    },
    {
     "data": {
      "image/png": "[encoded data removed]",
      "text/plain": [
       "<Figure size 960x960 with 1 Axes>"
      ]
     },
     "metadata": {},
     "output_type": "display_data"
    },
    {
     "data": {
      "image/png": "[encoded data removed]",
      "text/plain": [
       "<Figure size 960x960 with 1 Axes>"
      ]
     },
     "metadata": {},
     "output_type": "display_data"
    }
   ],
   "source": [
    "for i in ['temp_softbake', 'Flux90s', 'Selectivity', 'spin1','Temp_OXid', 'Source_Power']:\n",
    "    plt.figure(dpi=120, figsize = (8,8))\n",
    "    sns.boxplot(x = 'defective' , y = i, data = temp_df)\n",
    "    plt.show()"
   ]
  },
  {
   "cell_type": "code",
   "execution_count": 59,
   "id": "479ec431",
   "metadata": {},
   "outputs": [
    {
     "name": "stdout",
     "output_type": "stream",
     "text": [
      "2.720974e+17\n",
      "3846247470.0\n",
      "2.55631525e+17\n",
      "3846247470.0\n"
     ]
    },
    {
     "name": "stderr",
     "output_type": "stream",
     "text": [
      "/tmp/ipykernel_5007/67819908.py:14: SettingWithCopyWarning: \n",
      "A value is trying to be set on a copy of a slice from a DataFrame.\n",
      "Try using .loc[row_indexer,col_indexer] = value instead\n",
      "\n",
      "See the caveats in the documentation: https://pandas.pydata.org/pandas-docs/stable/user_guide/indexing.html#returning-a-view-versus-a-copy\n",
      "  temp_df['Flux90s'] = temp_df['Flux90s'].apply(lambda x: condition_1 if x > condition_1 else x)\n",
      "/tmp/ipykernel_5007/67819908.py:15: SettingWithCopyWarning: \n",
      "A value is trying to be set on a copy of a slice from a DataFrame.\n",
      "Try using .loc[row_indexer,col_indexer] = value instead\n",
      "\n",
      "See the caveats in the documentation: https://pandas.pydata.org/pandas-docs/stable/user_guide/indexing.html#returning-a-view-versus-a-copy\n",
      "  temp_df['Flux90s'] = temp_df['Flux90s'].apply(lambda x: condition_2 if x < condition_2 else x)\n"
     ]
    }
   ],
   "source": [
    "print(temp_df['Flux90s'].max())\n",
    "print(temp_df['Flux90s'].min())\n",
    "\n",
    "\n",
    "q1=temp_df['Flux90s'].quantile(0.25)\n",
    "q2=temp_df['Flux90s'].quantile(0.5)\n",
    "q3=temp_df['Flux90s'].quantile(0.75)\n",
    "iqr=q3-q1\n",
    "\n",
    "condition_1 = q3+1.5*iqr\n",
    "condition_2 = q1-1.5*iqr\n",
    "\n",
    "\n",
    "temp_df['Flux90s'] = temp_df['Flux90s'].apply(lambda x: condition_1 if x > condition_1 else x)\n",
    "temp_df['Flux90s'] = temp_df['Flux90s'].apply(lambda x: condition_2 if x < condition_2 else x)\n",
    "\n",
    "print(temp_df['Flux90s'].max())\n",
    "print(temp_df['Flux90s'].min())"
   ]
  },
  {
   "cell_type": "code",
   "execution_count": 60,
   "id": "fd38df06",
   "metadata": {},
   "outputs": [
    {
     "name": "stdout",
     "output_type": "stream",
     "text": [
      "96.653\n",
      "86.498\n",
      "95.957\n",
      "88.14100000000002\n"
     ]
    },
    {
     "name": "stderr",
     "output_type": "stream",
     "text": [
      "/tmp/ipykernel_5007/571315953.py:12: SettingWithCopyWarning: \n",
      "A value is trying to be set on a copy of a slice from a DataFrame.\n",
      "Try using .loc[row_indexer,col_indexer] = value instead\n",
      "\n",
      "See the caveats in the documentation: https://pandas.pydata.org/pandas-docs/stable/user_guide/indexing.html#returning-a-view-versus-a-copy\n",
      "  temp_df['temp_softbake'] = temp_df['temp_softbake'].apply(lambda x: condition_1 if x > condition_1 else x)\n",
      "/tmp/ipykernel_5007/571315953.py:13: SettingWithCopyWarning: \n",
      "A value is trying to be set on a copy of a slice from a DataFrame.\n",
      "Try using .loc[row_indexer,col_indexer] = value instead\n",
      "\n",
      "See the caveats in the documentation: https://pandas.pydata.org/pandas-docs/stable/user_guide/indexing.html#returning-a-view-versus-a-copy\n",
      "  temp_df['temp_softbake'] = temp_df['temp_softbake'].apply(lambda x: condition_2 if x < condition_2 else x)\n"
     ]
    }
   ],
   "source": [
    "print(temp_df['temp_softbake'].max())\n",
    "print(temp_df['temp_softbake'].min())\n",
    "\n",
    "q1=temp_df['temp_softbake'].quantile(0.25)\n",
    "q2=temp_df['temp_softbake'].quantile(0.5)\n",
    "q3=temp_df['temp_softbake'].quantile(0.75)\n",
    "iqr=q3-q1\n",
    "\n",
    "condition_1 = q3+1.5*iqr\n",
    "condition_2 = q1-1.5*iqr\n",
    "\n",
    "temp_df['temp_softbake'] = temp_df['temp_softbake'].apply(lambda x: condition_1 if x > condition_1 else x)\n",
    "temp_df['temp_softbake'] = temp_df['temp_softbake'].apply(lambda x: condition_2 if x < condition_2 else x)\n",
    "\n",
    "print(temp_df['temp_softbake'].max())\n",
    "print(temp_df['temp_softbake'].min())"
   ]
  },
  {
   "cell_type": "code",
   "execution_count": 61,
   "id": "2f21fa10",
   "metadata": {},
   "outputs": [
    {
     "name": "stdout",
     "output_type": "stream",
     "text": [
      "112.069\n",
      "103.407\n",
      "112.069\n",
      "103.9145\n"
     ]
    },
    {
     "name": "stderr",
     "output_type": "stream",
     "text": [
      "/tmp/ipykernel_5007/551810277.py:12: SettingWithCopyWarning: \n",
      "A value is trying to be set on a copy of a slice from a DataFrame.\n",
      "Try using .loc[row_indexer,col_indexer] = value instead\n",
      "\n",
      "See the caveats in the documentation: https://pandas.pydata.org/pandas-docs/stable/user_guide/indexing.html#returning-a-view-versus-a-copy\n",
      "  temp_df['Energy_Exposure'] = temp_df['Energy_Exposure'].apply(lambda x: condition_1 if x > condition_1 else x)\n",
      "/tmp/ipykernel_5007/551810277.py:13: SettingWithCopyWarning: \n",
      "A value is trying to be set on a copy of a slice from a DataFrame.\n",
      "Try using .loc[row_indexer,col_indexer] = value instead\n",
      "\n",
      "See the caveats in the documentation: https://pandas.pydata.org/pandas-docs/stable/user_guide/indexing.html#returning-a-view-versus-a-copy\n",
      "  temp_df['Energy_Exposure'] = temp_df['Energy_Exposure'].apply(lambda x: condition_2 if x < condition_2 else x)\n"
     ]
    }
   ],
   "source": [
    "print(temp_df['Energy_Exposure'].max())\n",
    "print(temp_df['Energy_Exposure'].min())\n",
    "\n",
    "q1=temp_df['Energy_Exposure'].quantile(0.25)\n",
    "q2=temp_df['Energy_Exposure'].quantile(0.5)\n",
    "q3=temp_df['Energy_Exposure'].quantile(0.75)\n",
    "iqr=q3-q1\n",
    "\n",
    "condition_1 = q3+1.5*iqr\n",
    "condition_2 = q1-1.5*iqr\n",
    "\n",
    "temp_df['Energy_Exposure'] = temp_df['Energy_Exposure'].apply(lambda x: condition_1 if x > condition_1 else x)\n",
    "temp_df['Energy_Exposure'] = temp_df['Energy_Exposure'].apply(lambda x: condition_2 if x < condition_2 else x)\n",
    "\n",
    "print(temp_df['Energy_Exposure'].max())\n",
    "print(temp_df['Energy_Exposure'].min())"
   ]
  },
  {
   "cell_type": "code",
   "execution_count": 62,
   "id": "1a52a1d6",
   "metadata": {},
   "outputs": [
    {
     "name": "stdout",
     "output_type": "stream",
     "text": [
      "49.91\n",
      "21.07\n",
      "49.91\n",
      "21.07\n"
     ]
    },
    {
     "name": "stderr",
     "output_type": "stream",
     "text": [
      "/tmp/ipykernel_5007/1460875334.py:12: SettingWithCopyWarning: \n",
      "A value is trying to be set on a copy of a slice from a DataFrame.\n",
      "Try using .loc[row_indexer,col_indexer] = value instead\n",
      "\n",
      "See the caveats in the documentation: https://pandas.pydata.org/pandas-docs/stable/user_guide/indexing.html#returning-a-view-versus-a-copy\n",
      "  temp_df['ppm'] = temp_df['ppm'].apply(lambda x: condition_1 if x > condition_1 else x)\n",
      "/tmp/ipykernel_5007/1460875334.py:13: SettingWithCopyWarning: \n",
      "A value is trying to be set on a copy of a slice from a DataFrame.\n",
      "Try using .loc[row_indexer,col_indexer] = value instead\n",
      "\n",
      "See the caveats in the documentation: https://pandas.pydata.org/pandas-docs/stable/user_guide/indexing.html#returning-a-view-versus-a-copy\n",
      "  temp_df['ppm'] = temp_df['ppm'].apply(lambda x: condition_2 if x < condition_2 else x)\n"
     ]
    }
   ],
   "source": [
    "print(temp_df['ppm'].max())\n",
    "print(temp_df['ppm'].min())\n",
    "\n",
    "q1=temp_df['ppm'].quantile(0.25)\n",
    "q2=temp_df['ppm'].quantile(0.5)\n",
    "q3=temp_df['ppm'].quantile(0.75)\n",
    "iqr=q3-q1\n",
    "\n",
    "condition_1 = q3+1.5*iqr\n",
    "condition_2 = q1-1.5*iqr\n",
    "\n",
    "temp_df['ppm'] = temp_df['ppm'].apply(lambda x: condition_1 if x > condition_1 else x)\n",
    "temp_df['ppm'] = temp_df['ppm'].apply(lambda x: condition_2 if x < condition_2 else x)\n",
    "\n",
    "print(temp_df['ppm'].max())\n",
    "print(temp_df['ppm'].min())"
   ]
  },
  {
   "cell_type": "code",
   "execution_count": 63,
   "id": "92e5465f",
   "metadata": {},
   "outputs": [
    {
     "name": "stdout",
     "output_type": "stream",
     "text": [
      "53.272\n",
      "49.342\n",
      "53.042125000000006\n",
      "49.463125\n"
     ]
    },
    {
     "name": "stderr",
     "output_type": "stream",
     "text": [
      "/tmp/ipykernel_5007/3709454835.py:12: SettingWithCopyWarning: \n",
      "A value is trying to be set on a copy of a slice from a DataFrame.\n",
      "Try using .loc[row_indexer,col_indexer] = value instead\n",
      "\n",
      "See the caveats in the documentation: https://pandas.pydata.org/pandas-docs/stable/user_guide/indexing.html#returning-a-view-versus-a-copy\n",
      "  temp_df['Source_Power'] = temp_df['Source_Power'].apply(lambda x: condition_1 if x > condition_1 else x)\n",
      "/tmp/ipykernel_5007/3709454835.py:13: SettingWithCopyWarning: \n",
      "A value is trying to be set on a copy of a slice from a DataFrame.\n",
      "Try using .loc[row_indexer,col_indexer] = value instead\n",
      "\n",
      "See the caveats in the documentation: https://pandas.pydata.org/pandas-docs/stable/user_guide/indexing.html#returning-a-view-versus-a-copy\n",
      "  temp_df['Source_Power'] = temp_df['Source_Power'].apply(lambda x: condition_2 if x < condition_2 else x)\n"
     ]
    }
   ],
   "source": [
    "for i in ['temp_softbake', 'Flux90s', 'Selectivity', 'spin1','Temp_OXid', 'Source_Power']:\n",
    "    plt.figure(dpi=120, figsize = (8,8))\n",
    "    sns.boxplot(x = 'defective' , y = i, data = temp_df)\n",
    "    plt.show()print(temp_df['Source_Power'].max())\n",
    "print(temp_df['Source_Power'].min())\n",
    "\n",
    "q1=temp_df['Source_Power'].quantile(0.25)\n",
    "q2=temp_df['Source_Power'].quantile(0.5)\n",
    "q3=temp_df['Source_Power'].quantile(0.75)\n",
    "iqr=q3-q1\n",
    "\n",
    "condition_1 = q3+1.5*iqr\n",
    "condition_2 = q1-1.5*iqr\n",
    "\n",
    "temp_df['Source_Power'] = temp_df['Source_Power'].apply(lambda x: condition_1 if x > condition_1 else x)\n",
    "temp_df['Source_Power'] = temp_df['Source_Power'].apply(lambda x: condition_2 if x < condition_2 else x)\n",
    "\n",
    "print(temp_df['Source_Power'].max())\n",
    "print(temp_df['Source_Power'].min())"
   ]
  },
  {
   "cell_type": "code",
   "execution_count": 29,
   "id": "9e941fd3",
   "metadata": {},
   "outputs": [],
   "source": [
    "plt.style.use(['fivethirtyeight'])"
   ]
  },
  {
   "cell_type": "code",
   "execution_count": 31,
   "id": "f1680a43",
   "metadata": {},
   "outputs": [],
   "source": [
    "plt.style.use(['fivethirtyeight'])"
   ]
  },
  {
   "cell_type": "code",
   "execution_count": 38,
   "id": "d98f17fb",
   "metadata": {
    "scrolled": false
   },
   "outputs": [
    {
     "data": {
      "image/png": "[encoded data removed]",
      "text/plain": [
       "<Figure size 960x960 with 1 Axes>"
      ]
     },
     "metadata": {},
     "output_type": "display_data"
    },
    {
     "data": {
      "image/png": "[encoded data removed]",
      "text/plain": [
       "<Figure size 960x960 with 1 Axes>"
      ]
     },
     "metadata": {},
     "output_type": "display_data"
    },
    {
     "data": {
      "image/png": "[encoded data removed]",
      "text/plain": [
       "<Figure size 960x960 with 1 Axes>"
      ]
     },
     "metadata": {},
     "output_type": "display_data"
    },
    {
     "data": {
      "image/png": "[encoded data removed]",
      "text/plain": [
       "<Figure size 960x960 with 1 Axes>"
      ]
     },
     "metadata": {},
     "output_type": "display_data"
    },
    {
     "data": {
      "image/png": "[encoded data removed]",
      "text/plain": [
       "<Figure size 960x960 with 1 Axes>"
      ]
     },
     "metadata": {},
     "output_type": "display_data"
    }
   ],
   "source": [
    "for i in ['temp_softbake', 'Flux90s', 'Selectivity', 'spin1','Temp_OXid']:\n",
    "    plt.figure(dpi=120, figsize = (8,8))\n",
    "    sns.boxplot(x = 'defective' , y = i, data = temp_df)\n",
    "    plt.show()"
   ]
  },
  {
   "cell_type": "markdown",
   "id": "4ef54700",
   "metadata": {},
   "source": [
    "# 최적구간설정"
   ]
  },
  {
   "cell_type": "code",
   "execution_count": 22,
   "id": "65fbbab0",
   "metadata": {},
   "outputs": [],
   "source": [
    "good_range = pd.DataFrame(columns = ['variable', 'down_range', 'up_range'])"
   ]
  },
  {
   "cell_type": "code",
   "execution_count": 23,
   "id": "4d8f6e9b",
   "metadata": {},
   "outputs": [],
   "source": [
    "good_range\n",
    "\n",
    "variable_list = []\n",
    "down_range_list = []\n",
    "up_range_list = []"
   ]
  },
  {
   "cell_type": "code",
   "execution_count": 24,
   "id": "95a7edec",
   "metadata": {},
   "outputs": [],
   "source": [
    "for i in ['temp_softbake', 'Flux90s', 'Selectivity', 'spin1','Temp_OXid', 'Source_Power']:\n",
    "    max_0 = temp_df[temp_df['defective'] == 0][i].max()\n",
    "    min_0 = temp_df[temp_df['defective'] == 0][i].min()\n",
    "    \n",
    "    max_1 = temp_df[temp_df['defective'] == 1][i].max()\n",
    "    min_1 = temp_df[temp_df['defective'] == 1][i].min()\n",
    "    \n",
    "    variable_list.append(i)\n",
    "    down_range_list.append([min_0, min_1])\n",
    "    up_range_list.append([max_0, max_1])"
   ]
  },
  {
   "cell_type": "code",
   "execution_count": 25,
   "id": "4c932ecc",
   "metadata": {},
   "outputs": [],
   "source": [
    "good_range['variable'] = variable_list\n",
    "good_range['down_range'] = down_range_list\n",
    "good_range['up_range'] = up_range_list\n"
   ]
  },
  {
   "cell_type": "code",
   "execution_count": 26,
   "id": "b30321f2",
   "metadata": {},
   "outputs": [
    {
     "data": {
      "text/html": [
       "<div>\n",
       "<style scoped>\n",
       "    .dataframe tbody tr th:only-of-type {\n",
       "        vertical-align: middle;\n",
       "    }\n",
       "\n",
       "    .dataframe tbody tr th {\n",
       "        vertical-align: top;\n",
       "    }\n",
       "\n",
       "    .dataframe thead th {\n",
       "        text-align: right;\n",
       "    }\n",
       "</style>\n",
       "<table border=\"1\" class=\"dataframe\">\n",
       "  <thead>\n",
       "    <tr style=\"text-align: right;\">\n",
       "      <th></th>\n",
       "      <th>variable</th>\n",
       "      <th>down_range</th>\n",
       "      <th>up_range</th>\n",
       "    </tr>\n",
       "  </thead>\n",
       "  <tbody>\n",
       "    <tr>\n",
       "      <th>0</th>\n",
       "      <td>temp_softbake</td>\n",
       "      <td>[86.498, 88.551]</td>\n",
       "      <td>[96.653, 95.28]</td>\n",
       "    </tr>\n",
       "    <tr>\n",
       "      <th>1</th>\n",
       "      <td>Flux90s</td>\n",
       "      <td>[17434023167.0, 3846247470.0]</td>\n",
       "      <td>[2.720974e+17, 1.900112e+17]</td>\n",
       "    </tr>\n",
       "    <tr>\n",
       "      <th>2</th>\n",
       "      <td>Selectivity</td>\n",
       "      <td>[0.984, 0.996]</td>\n",
       "      <td>[1.076, 1.066]</td>\n",
       "    </tr>\n",
       "    <tr>\n",
       "      <th>3</th>\n",
       "      <td>spin1</td>\n",
       "      <td>[492.196, 493.983]</td>\n",
       "      <td>[509.055, 508.904]</td>\n",
       "    </tr>\n",
       "    <tr>\n",
       "      <th>4</th>\n",
       "      <td>Temp_OXid</td>\n",
       "      <td>[862.01127574, 871.01062097]</td>\n",
       "      <td>[1311.2254351, 1294.5232503]</td>\n",
       "    </tr>\n",
       "    <tr>\n",
       "      <th>5</th>\n",
       "      <td>Source_Power</td>\n",
       "      <td>[49.342, 49.98]</td>\n",
       "      <td>[53.272, 52.567]</td>\n",
       "    </tr>\n",
       "  </tbody>\n",
       "</table>\n",
       "</div>"
      ],
      "text/plain": [
       "        variable                     down_range                      up_range\n",
       "0  temp_softbake               [86.498, 88.551]               [96.653, 95.28]\n",
       "1        Flux90s  [17434023167.0, 3846247470.0]  [2.720974e+17, 1.900112e+17]\n",
       "2    Selectivity                 [0.984, 0.996]                [1.076, 1.066]\n",
       "3          spin1             [492.196, 493.983]            [509.055, 508.904]\n",
       "4      Temp_OXid   [862.01127574, 871.01062097]  [1311.2254351, 1294.5232503]\n",
       "5   Source_Power                [49.342, 49.98]              [53.272, 52.567]"
      ]
     },
     "execution_count": 26,
     "metadata": {},
     "output_type": "execute_result"
    }
   ],
   "source": [
    "good_range"
   ]
  },
  {
   "cell_type": "code",
   "execution_count": 33,
   "id": "582467d1",
   "metadata": {},
   "outputs": [],
   "source": [
    "good_range_final = pd.DataFrame(columns = ['variable', 'good_range'])"
   ]
  },
  {
   "cell_type": "code",
   "execution_count": 34,
   "id": "b0258bbd",
   "metadata": {},
   "outputs": [
    {
     "data": {
      "text/html": [
       "<div>\n",
       "<style scoped>\n",
       "    .dataframe tbody tr th:only-of-type {\n",
       "        vertical-align: middle;\n",
       "    }\n",
       "\n",
       "    .dataframe tbody tr th {\n",
       "        vertical-align: top;\n",
       "    }\n",
       "\n",
       "    .dataframe thead th {\n",
       "        text-align: right;\n",
       "    }\n",
       "</style>\n",
       "<table border=\"1\" class=\"dataframe\">\n",
       "  <thead>\n",
       "    <tr style=\"text-align: right;\">\n",
       "      <th></th>\n",
       "      <th>variable</th>\n",
       "      <th>good_range</th>\n",
       "    </tr>\n",
       "  </thead>\n",
       "  <tbody>\n",
       "  </tbody>\n",
       "</table>\n",
       "</div>"
      ],
      "text/plain": [
       "Empty DataFrame\n",
       "Columns: [variable, good_range]\n",
       "Index: []"
      ]
     },
     "execution_count": 34,
     "metadata": {},
     "output_type": "execute_result"
    }
   ],
   "source": [
    "good_range_final"
   ]
  },
  {
   "cell_type": "code",
   "execution_count": 37,
   "id": "ffe0a066",
   "metadata": {},
   "outputs": [],
   "source": [
    "good_range_final['variable'] = good_range['variable']"
   ]
  },
  {
   "cell_type": "code",
   "execution_count": 82,
   "id": "426ad83b",
   "metadata": {},
   "outputs": [
    {
     "data": {
      "text/plain": [
       "'190011200000000000.000000'"
      ]
     },
     "execution_count": 82,
     "metadata": {},
     "output_type": "execute_result"
    }
   ],
   "source": [
    "format(good_range['up_range'][0][1], 'f')"
   ]
  },
  {
   "cell_type": "code",
   "execution_count": 36,
   "id": "7708e839",
   "metadata": {},
   "outputs": [
    {
     "data": {
      "text/plain": [
       "('272097400000000000.000000', '190011200000000000.000000')"
      ]
     },
     "execution_count": 36,
     "metadata": {},
     "output_type": "execute_result"
    }
   ],
   "source": [
    "format(good_range['up_range'][1][0], 'f'), format(good_range['up_range'][1][1], 'f')"
   ]
  },
  {
   "cell_type": "code",
   "execution_count": 39,
   "id": "bc210ad1",
   "metadata": {},
   "outputs": [],
   "source": [
    "good_range_final['good_range'] = [good_range['up_range'][0], good_range['up_range'][1],\n",
    "                                  good_range['down_range'][2], good_range['down_range'][3],\n",
    "                                 good_range['up_range'][4], good_range['down_range'][5]]"
   ]
  },
  {
   "cell_type": "code",
   "execution_count": 40,
   "id": "9229d3d7",
   "metadata": {},
   "outputs": [
    {
     "data": {
      "text/html": [
       "<div>\n",
       "<style scoped>\n",
       "    .dataframe tbody tr th:only-of-type {\n",
       "        vertical-align: middle;\n",
       "    }\n",
       "\n",
       "    .dataframe tbody tr th {\n",
       "        vertical-align: top;\n",
       "    }\n",
       "\n",
       "    .dataframe thead th {\n",
       "        text-align: right;\n",
       "    }\n",
       "</style>\n",
       "<table border=\"1\" class=\"dataframe\">\n",
       "  <thead>\n",
       "    <tr style=\"text-align: right;\">\n",
       "      <th></th>\n",
       "      <th>variable</th>\n",
       "      <th>good_range</th>\n",
       "    </tr>\n",
       "  </thead>\n",
       "  <tbody>\n",
       "    <tr>\n",
       "      <th>0</th>\n",
       "      <td>temp_softbake</td>\n",
       "      <td>[96.653, 95.28]</td>\n",
       "    </tr>\n",
       "    <tr>\n",
       "      <th>1</th>\n",
       "      <td>Flux90s</td>\n",
       "      <td>[2.720974e+17, 1.900112e+17]</td>\n",
       "    </tr>\n",
       "    <tr>\n",
       "      <th>2</th>\n",
       "      <td>Selectivity</td>\n",
       "      <td>[0.984, 0.996]</td>\n",
       "    </tr>\n",
       "    <tr>\n",
       "      <th>3</th>\n",
       "      <td>spin1</td>\n",
       "      <td>[492.196, 493.983]</td>\n",
       "    </tr>\n",
       "    <tr>\n",
       "      <th>4</th>\n",
       "      <td>Temp_OXid</td>\n",
       "      <td>[1311.2254351, 1294.5232503]</td>\n",
       "    </tr>\n",
       "    <tr>\n",
       "      <th>5</th>\n",
       "      <td>Source_Power</td>\n",
       "      <td>[49.342, 49.98]</td>\n",
       "    </tr>\n",
       "  </tbody>\n",
       "</table>\n",
       "</div>"
      ],
      "text/plain": [
       "        variable                    good_range\n",
       "0  temp_softbake               [96.653, 95.28]\n",
       "1        Flux90s  [2.720974e+17, 1.900112e+17]\n",
       "2    Selectivity                [0.984, 0.996]\n",
       "3          spin1            [492.196, 493.983]\n",
       "4      Temp_OXid  [1311.2254351, 1294.5232503]\n",
       "5   Source_Power               [49.342, 49.98]"
      ]
     },
     "execution_count": 40,
     "metadata": {},
     "output_type": "execute_result"
    }
   ],
   "source": [
    "good_range_final"
   ]
  },
  {
   "cell_type": "code",
   "execution_count": 41,
   "id": "0d53d61e",
   "metadata": {},
   "outputs": [],
   "source": [
    "good_range_final.to_csv('최적구간_final_change.csv', index=False)"
   ]
  }
 ],
 "metadata": {
  "kernelspec": {
   "display_name": "Python 3 (ipykernel)",
   "language": "python",
   "name": "python3"
  },
  "language_info": {
   "codemirror_mode": {
    "name": "ipython",
    "version": 3
   },
   "file_extension": ".py",
   "mimetype": "text/x-python",
   "name": "python",
   "nbconvert_exporter": "python",
   "pygments_lexer": "ipython3",
   "version": "3.9.7"
  }
 },
 "nbformat": 4,
 "nbformat_minor": 5
}
