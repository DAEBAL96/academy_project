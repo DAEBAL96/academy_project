{
 "cells": [
  {
   "cell_type": "code",
   "execution_count": 38,
   "id": "324f5c03",
   "metadata": {},
   "outputs": [],
   "source": [
    "import pandas as pd\n",
    "import numpy as np\n",
    "import matplotlib\n",
    "import matplotlib.pyplot as plt\n",
    "import seaborn as sns\n",
    "from numpy import linspace\n",
    "from scipy.stats import chi2\n",
    "from scipy.stats import chi2_contingency\n",
    "from scipy.stats import chisquare\n",
    "from statsmodels.api import qqplot, add_constant\n",
    "import statsmodels.formula.api as smf\n",
    "from statsmodels.tools.eval_measures import rmse\n",
    "from scipy.stats import shapiro\n",
    "from numpy.random import randn\n",
    "from sklearn.preprocessing import StandardScaler, MinMaxScaler, RobustScaler\n",
    "import warnings\n",
    "warnings.filterwarnings('ignore')\n",
    "from scipy import stats\n",
    "import scipy.stats\n",
    "from scipy.stats import bartlett\n",
    "from statsmodels.stats.proportion import proportions_ztest\n",
    "from sklearn.model_selection import train_test_split\n",
    "from statsmodels.stats.outliers_influence import variance_inflation_factor\n",
    "from sklearn.metrics import r2_score\n",
    "from sklearn.linear_model import LinearRegression\n",
    "from sklearn.feature_selection import RFE\n",
    "from sklearn.tree import DecisionTreeRegressor\n",
    "from sklearn.model_selection import GridSearchCV\n",
    "from scipy.stats import norm\n",
    "from statsmodels.formula.api import ols\n",
    "\n",
    "from sklearn.tree import export_graphviz\n",
    "import graphviz\n",
    "\n",
    "from sklearn.metrics import mean_squared_error\n",
    "from sklearn.metrics import mean_absolute_error\n",
    "import statsmodels.formula.api as smf\n",
    "\n",
    "from sklearn.tree import DecisionTreeRegressor\n",
    "from sklearn.ensemble import GradientBoostingRegressor\n",
    "from sklearn.ensemble import RandomForestRegressor\n",
    "\n",
    "from statsmodels.api import Logit\n",
    "\n",
    "from sklearn.metrics import accuracy_score, f1_score\n",
    "from sklearn.metrics import confusion_matrix, classification_report\n",
    "from sklearn.tree import DecisionTreeClassifier\n",
    "\n",
    "from sklearn.ensemble import RandomForestClassifier\n",
    "\n",
    "from sklearn.svm import SVC\n",
    "\n",
    "from sklearn.neural_network import MLPClassifier\n",
    "from sklearn.neighbors import KNeighborsClassifier\n",
    "plt.style.use(['fivethirtyeight'])\n",
    "\n",
    "matplotlib.rc('font', family = 'Noto Sans CJK JP')\n",
    "matplotlib.rc('axes', unicode_minus = False)"
   ]
  },
  {
   "cell_type": "code",
   "execution_count": 2,
   "id": "891a3f30",
   "metadata": {},
   "outputs": [
    {
     "data": {
      "text/html": [
       "<div>\n",
       "<style scoped>\n",
       "    .dataframe tbody tr th:only-of-type {\n",
       "        vertical-align: middle;\n",
       "    }\n",
       "\n",
       "    .dataframe tbody tr th {\n",
       "        vertical-align: top;\n",
       "    }\n",
       "\n",
       "    .dataframe thead th {\n",
       "        text-align: right;\n",
       "    }\n",
       "</style>\n",
       "<table border=\"1\" class=\"dataframe\">\n",
       "  <thead>\n",
       "    <tr style=\"text-align: right;\">\n",
       "      <th></th>\n",
       "      <th>No_Die</th>\n",
       "      <th>Ox_Chamber</th>\n",
       "      <th>process</th>\n",
       "      <th>type</th>\n",
       "      <th>Temp_OXid</th>\n",
       "      <th>Vapor</th>\n",
       "      <th>ppm</th>\n",
       "      <th>Pressure</th>\n",
       "      <th>Oxid_time</th>\n",
       "      <th>thickness</th>\n",
       "      <th>...</th>\n",
       "      <th>Furance_Temp</th>\n",
       "      <th>RTA_Temp</th>\n",
       "      <th>count_ion</th>\n",
       "      <th>Target</th>\n",
       "      <th>Error_message</th>\n",
       "      <th>Wafer_map</th>\n",
       "      <th>chamber_total_count</th>\n",
       "      <th>chamber_path</th>\n",
       "      <th>defective</th>\n",
       "      <th>defective_chip_rate</th>\n",
       "    </tr>\n",
       "  </thead>\n",
       "  <tbody>\n",
       "    <tr>\n",
       "      <th>0</th>\n",
       "      <td>NOLSM325131325</td>\n",
       "      <td>2</td>\n",
       "      <td>Oxidation</td>\n",
       "      <td>dry</td>\n",
       "      <td>1214.307948</td>\n",
       "      <td>O2</td>\n",
       "      <td>26.69</td>\n",
       "      <td>0.203</td>\n",
       "      <td>120</td>\n",
       "      <td>713.132</td>\n",
       "      <td>...</td>\n",
       "      <td>854.0</td>\n",
       "      <td>154</td>\n",
       "      <td>582</td>\n",
       "      <td>141</td>\n",
       "      <td>none</td>\n",
       "      <td>[[0 0 0 0 0 0 0 0 0 0 1 2 1 1 1 2 0 0 0 0 0 0 ...</td>\n",
       "      <td>2907</td>\n",
       "      <td>21111</td>\n",
       "      <td>0</td>\n",
       "      <td>0.0705</td>\n",
       "    </tr>\n",
       "    <tr>\n",
       "      <th>1</th>\n",
       "      <td>NOLSM326132326</td>\n",
       "      <td>2</td>\n",
       "      <td>Oxidation</td>\n",
       "      <td>dry</td>\n",
       "      <td>978.110792</td>\n",
       "      <td>O2</td>\n",
       "      <td>30.86</td>\n",
       "      <td>0.217</td>\n",
       "      <td>137</td>\n",
       "      <td>714.295</td>\n",
       "      <td>...</td>\n",
       "      <td>895.0</td>\n",
       "      <td>156</td>\n",
       "      <td>542</td>\n",
       "      <td>55</td>\n",
       "      <td>none</td>\n",
       "      <td>[[0 0 0 0 0 0 0 0 0 0 2 2 2 2 1 2 0 0 0 0 0 0 ...</td>\n",
       "      <td>2819</td>\n",
       "      <td>21122</td>\n",
       "      <td>0</td>\n",
       "      <td>0.0275</td>\n",
       "    </tr>\n",
       "    <tr>\n",
       "      <th>2</th>\n",
       "      <td>NOLSM327133327</td>\n",
       "      <td>2</td>\n",
       "      <td>Oxidation</td>\n",
       "      <td>dry</td>\n",
       "      <td>1176.019149</td>\n",
       "      <td>O2</td>\n",
       "      <td>31.07</td>\n",
       "      <td>0.218</td>\n",
       "      <td>116</td>\n",
       "      <td>710.114</td>\n",
       "      <td>...</td>\n",
       "      <td>898.0</td>\n",
       "      <td>152</td>\n",
       "      <td>550</td>\n",
       "      <td>96</td>\n",
       "      <td>none</td>\n",
       "      <td>[[0 0 0 0 0 0 0 0 0 0 1 2 1 1 1 2 0 0 0 0 0 0 ...</td>\n",
       "      <td>2847</td>\n",
       "      <td>21133</td>\n",
       "      <td>0</td>\n",
       "      <td>0.0480</td>\n",
       "    </tr>\n",
       "    <tr>\n",
       "      <th>3</th>\n",
       "      <td>NOLSM328134328</td>\n",
       "      <td>2</td>\n",
       "      <td>Oxidation</td>\n",
       "      <td>dry</td>\n",
       "      <td>933.442733</td>\n",
       "      <td>O2</td>\n",
       "      <td>31.04</td>\n",
       "      <td>0.196</td>\n",
       "      <td>143</td>\n",
       "      <td>710.617</td>\n",
       "      <td>...</td>\n",
       "      <td>879.0</td>\n",
       "      <td>155</td>\n",
       "      <td>582</td>\n",
       "      <td>105</td>\n",
       "      <td>none</td>\n",
       "      <td>[[0 0 0 0 0 0 0 0 0 0 2 1 1 1 1 2 0 0 0 0 0 0 ...</td>\n",
       "      <td>2907</td>\n",
       "      <td>21111</td>\n",
       "      <td>0</td>\n",
       "      <td>0.0525</td>\n",
       "    </tr>\n",
       "    <tr>\n",
       "      <th>4</th>\n",
       "      <td>NOLSM329135329</td>\n",
       "      <td>2</td>\n",
       "      <td>Oxidation</td>\n",
       "      <td>wet</td>\n",
       "      <td>1140.598752</td>\n",
       "      <td>H2O</td>\n",
       "      <td>31.37</td>\n",
       "      <td>0.215</td>\n",
       "      <td>76</td>\n",
       "      <td>711.632</td>\n",
       "      <td>...</td>\n",
       "      <td>882.0</td>\n",
       "      <td>155</td>\n",
       "      <td>542</td>\n",
       "      <td>79</td>\n",
       "      <td>none</td>\n",
       "      <td>[[0 0 0 0 0 0 0 0 0 0 1 1 1 1 1 1 0 0 0 0 0 0 ...</td>\n",
       "      <td>2819</td>\n",
       "      <td>21122</td>\n",
       "      <td>0</td>\n",
       "      <td>0.0395</td>\n",
       "    </tr>\n",
       "  </tbody>\n",
       "</table>\n",
       "<p>5 rows × 66 columns</p>\n",
       "</div>"
      ],
      "text/plain": [
       "           No_Die  Ox_Chamber    process type    Temp_OXid Vapor    ppm  \\\n",
       "0  NOLSM325131325           2  Oxidation  dry  1214.307948    O2  26.69   \n",
       "1  NOLSM326132326           2  Oxidation  dry   978.110792    O2  30.86   \n",
       "2  NOLSM327133327           2  Oxidation  dry  1176.019149    O2  31.07   \n",
       "3  NOLSM328134328           2  Oxidation  dry   933.442733    O2  31.04   \n",
       "4  NOLSM329135329           2  Oxidation  wet  1140.598752   H2O  31.37   \n",
       "\n",
       "   Pressure  Oxid_time  thickness  ...  Furance_Temp  RTA_Temp count_ion  \\\n",
       "0     0.203        120    713.132  ...         854.0       154       582   \n",
       "1     0.217        137    714.295  ...         895.0       156       542   \n",
       "2     0.218        116    710.114  ...         898.0       152       550   \n",
       "3     0.196        143    710.617  ...         879.0       155       582   \n",
       "4     0.215         76    711.632  ...         882.0       155       542   \n",
       "\n",
       "   Target  Error_message                                          Wafer_map  \\\n",
       "0     141           none  [[0 0 0 0 0 0 0 0 0 0 1 2 1 1 1 2 0 0 0 0 0 0 ...   \n",
       "1      55           none  [[0 0 0 0 0 0 0 0 0 0 2 2 2 2 1 2 0 0 0 0 0 0 ...   \n",
       "2      96           none  [[0 0 0 0 0 0 0 0 0 0 1 2 1 1 1 2 0 0 0 0 0 0 ...   \n",
       "3     105           none  [[0 0 0 0 0 0 0 0 0 0 2 1 1 1 1 2 0 0 0 0 0 0 ...   \n",
       "4      79           none  [[0 0 0 0 0 0 0 0 0 0 1 1 1 1 1 1 0 0 0 0 0 0 ...   \n",
       "\n",
       "   chamber_total_count  chamber_path  defective  defective_chip_rate  \n",
       "0                 2907         21111          0               0.0705  \n",
       "1                 2819         21122          0               0.0275  \n",
       "2                 2847         21133          0               0.0480  \n",
       "3                 2907         21111          0               0.0525  \n",
       "4                 2819         21122          0               0.0395  \n",
       "\n",
       "[5 rows x 66 columns]"
      ]
     },
     "execution_count": 2,
     "metadata": {},
     "output_type": "execute_result"
    }
   ],
   "source": [
    "df = pd.read_csv(\"/home/piai/다운로드/BigData/final_merged_dataset.csv\")\n",
    "df.head()"
   ]
  },
  {
   "cell_type": "code",
   "execution_count": 4,
   "id": "d809a62f",
   "metadata": {},
   "outputs": [
    {
     "data": {
      "text/plain": [
       "Index(['No_Die', 'Ox_Chamber', 'process', 'type', 'Temp_OXid', 'Vapor', 'ppm',\n",
       "       'Pressure', 'Oxid_time', 'thickness', 'Lot_Num', 'Wafer_Num',\n",
       "       'Datetime', 'count_oxid', 'photo_soft_Chamber', 'process 2',\n",
       "       'resist_target', 'N2_HMDS', 'pressure_HMDS', 'temp_HMDS',\n",
       "       'temp_HMDS_bake', 'time_HMDS_bake', 'spin1', 'spin2', 'spin3',\n",
       "       'photoresist_bake', 'temp_softbake', 'time_softbake', 'count_soft',\n",
       "       'lithography_Chamber', 'Process 2-1', 'Line_CD', 'UV_type',\n",
       "       'Wavelength', 'Resolution', 'Energy_Exposure', 'count_litho',\n",
       "       'Etching_Chamber', 'Process 3', 'Thin F4', 'Thin F3', 'Thin F2',\n",
       "       'Thin F1', 'Temp_Etching', 'Source_Power', 'Selectivity',\n",
       "       'count_etching', 'Chamber_Num', 'process4', 'Flux60s', 'Flux90s',\n",
       "       'Flux160s', 'Flux480s', 'Flux840s', 'input_Energy', 'Temp_implantation',\n",
       "       'Furance_Temp', 'RTA_Temp', 'count_ion', 'Target', 'Error_message',\n",
       "       'Wafer_map', 'chamber_total_count', 'chamber_path', 'defective',\n",
       "       'defective_chip_rate'],\n",
       "      dtype='object')"
      ]
     },
     "execution_count": 4,
     "metadata": {},
     "output_type": "execute_result"
    }
   ],
   "source": [
    "df.columns"
   ]
  },
  {
   "cell_type": "markdown",
   "id": "c07969e4",
   "metadata": {},
   "source": [
    "#### shapiro"
   ]
  },
  {
   "cell_type": "code",
   "execution_count": 45,
   "id": "0b049583",
   "metadata": {},
   "outputs": [
    {
     "name": "stdout",
     "output_type": "stream",
     "text": [
      "Shapiro-Wilk Test: statistic=0.8974703550338745, p-value=6.691537444633572e-32\n"
     ]
    }
   ],
   "source": [
    "shapiro(df['Temp_OXid'])\n",
    "\n",
    "statistic, p = stats.shapiro(df['Temp_OXid'])\n",
    "print('Shapiro-Wilk Test: statistic={}, p-value={}'.format(statistic,p))"
   ]
  },
  {
   "cell_type": "code",
   "execution_count": 46,
   "id": "457bdfd5",
   "metadata": {},
   "outputs": [
    {
     "name": "stdout",
     "output_type": "stream",
     "text": [
      "Shapiro-Wilk Test: statistic=0.9142566919326782, p-value=1.2365670939915758e-29\n"
     ]
    }
   ],
   "source": [
    "shapiro(df['ppm'])\n",
    "\n",
    "statistic, p = stats.shapiro(df['ppm'])\n",
    "print('Shapiro-Wilk Test: statistic={}, p-value={}'.format(statistic,p))\n"
   ]
  },
  {
   "cell_type": "code",
   "execution_count": 47,
   "id": "41142b5a",
   "metadata": {},
   "outputs": [
    {
     "name": "stdout",
     "output_type": "stream",
     "text": [
      "Shapiro-Wilk Test: statistic=0.9733632206916809, p-value=5.613286017965268e-17\n"
     ]
    }
   ],
   "source": [
    "shapiro(df['Pressure'])\n",
    "\n",
    "statistic, p = stats.shapiro(df['Pressure'])\n",
    "print('Shapiro-Wilk Test: statistic={}, p-value={}'.format(statistic,p))\n"
   ]
  },
  {
   "cell_type": "code",
   "execution_count": 48,
   "id": "282c4f9c",
   "metadata": {},
   "outputs": [
    {
     "name": "stdout",
     "output_type": "stream",
     "text": [
      "Shapiro-Wilk Test: statistic=0.8750354647636414, p-value=1.6380985583570088e-34\n"
     ]
    }
   ],
   "source": [
    "shapiro(df['Oxid_time'])\n",
    "\n",
    "statistic, p = stats.shapiro(df['Oxid_time'])\n",
    "print('Shapiro-Wilk Test: statistic={}, p-value={}'.format(statistic,p))"
   ]
  },
  {
   "cell_type": "code",
   "execution_count": 20,
   "id": "35fbcbf5",
   "metadata": {},
   "outputs": [
    {
     "name": "stdout",
     "output_type": "stream",
     "text": [
      "0.39061683416366577 \n",
      " 0.0\n"
     ]
    }
   ],
   "source": [
    "fit = ols('defective ~ Temp_OXid', data=df).fit()\n",
    "sqrt_mse = np.sqrt(fit.mse_resid)\n",
    "std_res = fit.resid/sqrt_mse\n",
    "shapiro_test = stats.shapiro(std_res)\n",
    "sw_stat = shapiro_test[0]\n",
    "p_value = shapiro_test[1]\n",
    "print(sw_stat,'\\n' ,p_value)"
   ]
  },
  {
   "cell_type": "code",
   "execution_count": 16,
   "id": "f36b2d43",
   "metadata": {},
   "outputs": [
    {
     "name": "stdout",
     "output_type": "stream",
     "text": [
      "0.3626158833503723 \n",
      " 0.0\n"
     ]
    }
   ],
   "source": [
    "fit = ols('defective ~ ppm', data=df).fit()\n",
    "sqrt_mse = np.sqrt(fit.mse_resid)\n",
    "std_res = fit.resid/sqrt_mse\n",
    "shapiro_test = stats.shapiro(std_res)\n",
    "sw_stat = shapiro_test[0]\n",
    "p_value = shapiro_test[1]\n",
    "print(sw_stat,'\\n' ,p_value)"
   ]
  },
  {
   "cell_type": "code",
   "execution_count": 17,
   "id": "77a3553e",
   "metadata": {},
   "outputs": [
    {
     "name": "stdout",
     "output_type": "stream",
     "text": [
      "0.4120500683784485 \n",
      " 0.0\n"
     ]
    }
   ],
   "source": [
    "fit = ols('defective ~ Pressure', data=df).fit()\n",
    "sqrt_mse = np.sqrt(fit.mse_resid)\n",
    "std_res = fit.resid/sqrt_mse\n",
    "shapiro_test = stats.shapiro(std_res)\n",
    "sw_stat = shapiro_test[0]\n",
    "p_value = shapiro_test[1]\n",
    "print(sw_stat,'\\n' ,p_value)"
   ]
  },
  {
   "cell_type": "code",
   "execution_count": 18,
   "id": "7fc06171",
   "metadata": {},
   "outputs": [
    {
     "name": "stdout",
     "output_type": "stream",
     "text": [
      "0.3212360143661499 \n",
      " 0.0\n"
     ]
    }
   ],
   "source": [
    "fit = ols('defective ~ Oxid_time', data=df).fit()\n",
    "sqrt_mse = np.sqrt(fit.mse_resid)\n",
    "std_res = fit.resid/sqrt_mse\n",
    "shapiro_test = stats.shapiro(std_res)\n",
    "sw_stat = shapiro_test[0]\n",
    "p_value = shapiro_test[1]\n",
    "print(sw_stat,'\\n' ,p_value)"
   ]
  },
  {
   "cell_type": "code",
   "execution_count": null,
   "id": "7c2af9ae",
   "metadata": {},
   "outputs": [],
   "source": [
    "oxidation = ['Pressure', 'Temp_OXid', 'ppm', 'Oxid_time']"
   ]
  },
  {
   "cell_type": "markdown",
   "id": "ebf6e31f",
   "metadata": {},
   "source": [
    "#### 범주형 정규성 검사 - 카이제곱"
   ]
  }
 ],
 "metadata": {
  "kernelspec": {
   "display_name": "Python 3 (ipykernel)",
   "language": "python",
   "name": "python3"
  },
  "language_info": {
   "codemirror_mode": {
    "name": "ipython",
    "version": 3
   },
   "file_extension": ".py",
   "mimetype": "text/x-python",
   "name": "python",
   "nbconvert_exporter": "python",
   "pygments_lexer": "ipython3",
   "version": "3.9.7"
  }
 },
 "nbformat": 4,
 "nbformat_minor": 5
}
