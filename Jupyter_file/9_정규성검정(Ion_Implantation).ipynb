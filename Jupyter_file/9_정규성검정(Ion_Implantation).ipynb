{
 "cells": [
  {
   "cell_type": "code",
   "execution_count": 1,
   "id": "1877396b",
   "metadata": {},
   "outputs": [],
   "source": [
    "import pandas as pd\n",
    "import matplotlib.pyplot as plt\n",
    "import matplotlib\n",
    "import numpy as np\n",
    "\n",
    "from datetime import datetime\n",
    "\n",
    "matplotlib.rc('font', family = 'Noto Sans CJK JP')\n",
    "matplotlib.rc('axes', unicode_minus = False)\n",
    "\n",
    "plt.style.use(['fivethirtyeight'])\n",
    "\n",
    "\n",
    "import seaborn as sns\n",
    "\n",
    "\n",
    "\n",
    "from scipy import stats\n",
    "import scipy.stats\n",
    "from scipy.stats import shapiro\n",
    "from scipy.stats import bartlett, levene\n",
    "from statsmodels.formula.api import ols\n",
    "from statsmodels.api import qqplot, add_constant\n",
    "import statsmodels.formula.api as smf\n",
    "from statsmodels.stats.outliers_influence import variance_inflation_factor\n",
    "from sklearn.model_selection import train_test_split\n",
    "from sklearn.feature_selection import RFE\n",
    "from sklearn.preprocessing import StandardScaler\n",
    "from sklearn.metrics import r2_score\n",
    "from statsmodels.tools.eval_measures import rmse\n",
    "\n",
    "from sklearn.tree import export_graphviz\n",
    "\n",
    "import graphviz\n",
    "from sklearn.model_selection import KFold\n",
    "from sklearn.tree import DecisionTreeRegressor\n",
    "from sklearn.model_selection import GridSearchCV\n",
    "from sklearn.model_selection import RandomizedSearchCV\n",
    "from sklearn.metrics import mean_absolute_error\n",
    "from sklearn.metrics import mean_squared_error\n",
    "from IPython.core.display import display, HTML\n",
    "from sklearn.cluster import KMeans\n",
    "from yellowbrick.cluster import KElbowVisualizer\n",
    "from scipy.spatial.distance import cdist\n",
    "from scipy.cluster.hierarchy import linkage, dendrogram, fcluster\n",
    "from sklearn.cluster import AgglomerativeClustering,KMeans, DBSCAN\n",
    "from sklearn.metrics import silhouette_samples, silhouette_score\n",
    "from yellowbrick.cluster import SilhouetteVisualizer\n",
    "from dask.diagnostics import ProgressBar\n",
    "import statsmodels.api as sm\n",
    "from sklearn.ensemble import RandomForestClassifier, GradientBoostingClassifier\n",
    "from sklearn.tree import DecisionTreeClassifier, export_graphviz\n",
    "from sklearn import metrics\n",
    "from sklearn.metrics import f1_score\n",
    "from sklearn.metrics import accuracy_score, f1_score\n",
    "from sklearn.metrics import confusion_matrix, classification_report\n",
    "from sklearn.metrics import accuracy_score, f1_score, f1_score, roc_curve, auc, precision_score,recall_score\n",
    "plt.style.use(['fivethirtyeight'])"
   ]
  },
  {
   "cell_type": "code",
   "execution_count": 2,
   "id": "c9f5f8df",
   "metadata": {},
   "outputs": [],
   "source": [
    "df = pd.read_csv('/home/piai/바탕화면/B4_반도체/remake/final_merged_dataset.csv', encoding = \"euc-kr\")"
   ]
  },
  {
   "cell_type": "code",
   "execution_count": 3,
   "id": "a89c9d83",
   "metadata": {},
   "outputs": [],
   "source": [
    "Ion_Implantation = ['Flux60s', 'Flux90s', 'Flux160s', 'Flux480s', 'Flux840s', 'input_Energy', 'Temp_implantation', 'Furance_Temp', 'RTA_Temp']\n"
   ]
  },
  {
   "cell_type": "code",
   "execution_count": 4,
   "id": "82eaa827",
   "metadata": {},
   "outputs": [],
   "source": [
    "templist = df.columns[49:58]"
   ]
  },
  {
   "cell_type": "markdown",
   "id": "4ffed944",
   "metadata": {},
   "source": [
    "# 정규성 검정"
   ]
  },
  {
   "cell_type": "code",
   "execution_count": 5,
   "id": "60251c25",
   "metadata": {},
   "outputs": [
    {
     "name": "stdout",
     "output_type": "stream",
     "text": [
      "Flux60s 의 statistic = 0.9902468323707581, p-values= 4.381651930174257e-09\n",
      "\n",
      "Flux90s 의 statistic = 0.9631079435348511, p-values= 3.977431736388744e-20\n",
      "\n",
      "Flux160s 의 statistic = 0.9508768916130066, p-values= 3.8962673145981686e-23\n",
      "\n",
      "Flux480s 의 statistic = 0.9970415234565735, p-values= 0.0030752699822187424\n",
      "\n",
      "Flux840s 의 statistic = 0.020214378833770752, p-values= 0.0\n",
      "\n",
      "input_Energy 의 statistic = 0.9239959716796875, p-values= 3.725185217059804e-28\n",
      "\n",
      "Temp_implantation 의 statistic = 0.9887769222259521, p-values= 5.054192064868346e-10\n",
      "\n",
      "Furance_Temp 의 statistic = 0.9587435126304626, p-values= 2.827305353190166e-21\n",
      "\n",
      "RTA_Temp 의 statistic = 0.9808591604232788, p-values= 4.4513197517076844e-14\n",
      "\n"
     ]
    }
   ],
   "source": [
    "for i in range(len(templist)) :\n",
    "    statistic, p = stats.shapiro(df[templist[i]])\n",
    "    print(templist[i],'의 statistic = {}, p-values= {}\\n'.format(statistic, p))"
   ]
  }
 ],
 "metadata": {
  "kernelspec": {
   "display_name": "Python 3 (ipykernel)",
   "language": "python",
   "name": "python3"
  },
  "language_info": {
   "codemirror_mode": {
    "name": "ipython",
    "version": 3
   },
   "file_extension": ".py",
   "mimetype": "text/x-python",
   "name": "python",
   "nbconvert_exporter": "python",
   "pygments_lexer": "ipython3",
   "version": "3.9.7"
  }
 },
 "nbformat": 4,
 "nbformat_minor": 5
}
