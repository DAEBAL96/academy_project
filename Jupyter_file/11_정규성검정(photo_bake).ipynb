{
 "cells": [
  {
   "cell_type": "code",
   "execution_count": 2,
   "id": "ca1c0cf9",
   "metadata": {},
   "outputs": [],
   "source": [
    "import pandas as pd\n",
    "import numpy as np\n",
    " \n",
    "    \n",
    "\n",
    "import matplotlib.pyplot as plt\n",
    "import matplotlib\n",
    "\n",
    "import seaborn as sns\n",
    "plt.style.use('fivethirtyeight')\n",
    "    \n",
    "from scipy.stats import shapiro\n",
    "from scipy.stats import norm\n",
    "from scipy import stats\n",
    "from statsmodels.formula.api import ols\n"
   ]
  },
  {
   "cell_type": "code",
   "execution_count": 4,
   "id": "9acb9f54",
   "metadata": {},
   "outputs": [
    {
     "data": {
      "text/plain": [
       "Index(['No_Die', 'Ox_Chamber', 'process', 'type', 'Temp_OXid', 'Vapor', 'ppm',\n",
       "       'Pressure', 'Oxid_time', 'thickness', 'Lot_Num', 'Wafer_Num',\n",
       "       'Datetime', 'count_oxid', 'photo_soft_Chamber', 'process 2',\n",
       "       'resist_target', 'N2_HMDS', 'pressure_HMDS', 'temp_HMDS',\n",
       "       'temp_HMDS_bake', 'time_HMDS_bake', 'spin1', 'spin2', 'spin3',\n",
       "       'photoresist_bake', 'temp_softbake', 'time_softbake', 'count_soft',\n",
       "       'lithography_Chamber', 'Process 2-1', 'Line_CD', 'UV_type',\n",
       "       'Wavelength', 'Resolution', 'Energy_Exposure', 'count_litho',\n",
       "       'Etching_Chamber', 'Process 3', 'Thin F4', 'Thin F3', 'Thin F2',\n",
       "       'Thin F1', 'Temp_Etching', 'Source_Power', 'Selectivity',\n",
       "       'count_etching', 'Chamber_Num', 'process4', 'Flux60s', 'Flux90s',\n",
       "       'Flux160s', 'Flux480s', 'Flux840s', 'input_Energy', 'Temp_implantation',\n",
       "       'Furance_Temp', 'RTA_Temp', 'count_ion', 'Target', 'Error_message',\n",
       "       'Wafer_map', 'chamber_total_count', 'chamber_path', 'defective',\n",
       "       'defective_chip_rate'],\n",
       "      dtype='object')"
      ]
     },
     "execution_count": 4,
     "metadata": {},
     "output_type": "execute_result"
    }
   ],
   "source": [
    "df_merge = pd.read_csv(\"/home/piai/Downloads/final_merged_dataset.csv\")\n",
    "df_merge.columns"
   ]
  },
  {
   "cell_type": "code",
   "execution_count": 5,
   "id": "50bbfdd5",
   "metadata": {},
   "outputs": [
    {
     "name": "stdout",
     "output_type": "stream",
     "text": [
      "0.28969091176986694 \n",
      " 0.0\n"
     ]
    }
   ],
   "source": [
    "#ols 사피로 N2-HMDS\n",
    "fit = ols('defective ~ N2_HMDS', data=df_merge).fit()\n",
    "\n",
    "sqrt_mse = np.sqrt(fit.mse_resid)\n",
    "std_res = fit.resid/sqrt_mse\n",
    "\n",
    "shapiro_test = stats.shapiro(std_res)\n",
    "\n",
    "sw_stat = shapiro_test[0]\n",
    "p_value = shapiro_test[1]\n",
    "print(sw_stat,'\\n' ,p_value)\n",
    "\n"
   ]
  },
  {
   "cell_type": "code",
   "execution_count": 6,
   "id": "6417e31c",
   "metadata": {},
   "outputs": [
    {
     "name": "stdout",
     "output_type": "stream",
     "text": [
      "Shapiro-Wilk Test: statistic=0.9870252013206482, p-value=4.770016673316668e-11\n",
      "0.0000000000\n"
     ]
    }
   ],
   "source": [
    "#사피로 모델 이용\n",
    "shapiro(df_merge['N2_HMDS'])\n",
    "statistic, p = stats.shapiro(df_merge['N2_HMDS'])\n",
    "print('Shapiro-Wilk Test: statistic={}, p-value={}'.format(statistic,p))\n",
    "p = '{:.10f}'.format(p)\n",
    "print(p)"
   ]
  },
  {
   "cell_type": "code",
   "execution_count": 7,
   "id": "9b05f357",
   "metadata": {},
   "outputs": [
    {
     "data": {
      "text/plain": [
       "(array([  3.,   0.,   6.,   8.,  34.,  15.,  14.,  16.,  55.,  27.,  36.,\n",
       "         47.,  74.,  32.,  63.,  59.,  96.,  74., 136., 133., 165., 100.,\n",
       "        128.,  54.,  30.,  25.,  62.,  43.,  18.,  37.,  23.,  36.,   6.,\n",
       "          2.,   0.,   0.,   0.,   0.,   0.,   1.]),\n",
       " array([ 9.497 ,  9.8489, 10.2008, 10.5527, 10.9046, 11.2565, 11.6084,\n",
       "        11.9603, 12.3122, 12.6641, 13.016 , 13.3679, 13.7198, 14.0717,\n",
       "        14.4236, 14.7755, 15.1274, 15.4793, 15.8312, 16.1831, 16.535 ,\n",
       "        16.8869, 17.2388, 17.5907, 17.9426, 18.2945, 18.6464, 18.9983,\n",
       "        19.3502, 19.7021, 20.054 , 20.4059, 20.7578, 21.1097, 21.4616,\n",
       "        21.8135, 22.1654, 22.5173, 22.8692, 23.2211, 23.573 ]),\n",
       " <BarContainer object of 40 artists>)"
      ]
     },
     "execution_count": 7,
     "metadata": {},
     "output_type": "execute_result"
    },
    {
     "data": {
      "image/png": "[encoded data removed]",
      "text/plain": [
       "<Figure size 432x288 with 1 Axes>"
      ]
     },
     "metadata": {},
     "output_type": "display_data"
    }
   ],
   "source": [
    "#정규성 bin수를 늘려보니 정규성 안 나옴\n",
    "plt.hist(df_merge['N2_HMDS'],bins = 40)\n"
   ]
  },
  {
   "cell_type": "code",
   "execution_count": 8,
   "id": "e315a724",
   "metadata": {},
   "outputs": [
    {
     "name": "stdout",
     "output_type": "stream",
     "text": [
      "0.2869037389755249 \n",
      " 0.0\n"
     ]
    }
   ],
   "source": [
    "fit = ols('defective ~ pressure_HMDS', data=df_merge).fit()\n",
    "\n",
    "sqrt_mse = np.sqrt(fit.mse_resid)\n",
    "std_res = fit.resid/sqrt_mse\n",
    "\n",
    "shapiro_test = stats.shapiro(std_res)\n",
    "\n",
    "sw_stat = shapiro_test[0]\n",
    "p_value = shapiro_test[1]\n",
    "print(sw_stat,'\\n' ,p_value)"
   ]
  },
  {
   "cell_type": "code",
   "execution_count": 9,
   "id": "ea98f4cb",
   "metadata": {},
   "outputs": [
    {
     "name": "stdout",
     "output_type": "stream",
     "text": [
      "Shapiro-Wilk Test: statistic=0.9983168840408325, p-value=0.09428383409976959\n",
      "0.0942838341\n"
     ]
    }
   ],
   "source": [
    "\n",
    "shapiro(df_merge['pressure_HMDS'])\n",
    "statistic, p = stats.shapiro(df_merge['pressure_HMDS'])\n",
    "print('Shapiro-Wilk Test: statistic={}, p-value={}'.format(statistic,p))\n",
    "p = '{:.10f}'.format(p)\n",
    "print(p)"
   ]
  },
  {
   "cell_type": "code",
   "execution_count": 10,
   "id": "2ee9c425",
   "metadata": {},
   "outputs": [
    {
     "data": {
      "text/plain": [
       "(array([  6.,   4.,   6.,   8.,   4.,  16.,  16.,  16.,  24.,  41.,  60.,\n",
       "         75.,  79.,  67., 120., 103.,  87.,  99.,  89., 120., 102.,  77.,\n",
       "         87.,  58.,  70.,  59.,  57.,  32.,  18.,  13.,  15.,   4.,   8.,\n",
       "          8.,   6.,   2.,   0.,   0.,   0.,   2.]),\n",
       " array([14.776   , 14.788625, 14.80125 , 14.813875, 14.8265  , 14.839125,\n",
       "        14.85175 , 14.864375, 14.877   , 14.889625, 14.90225 , 14.914875,\n",
       "        14.9275  , 14.940125, 14.95275 , 14.965375, 14.978   , 14.990625,\n",
       "        15.00325 , 15.015875, 15.0285  , 15.041125, 15.05375 , 15.066375,\n",
       "        15.079   , 15.091625, 15.10425 , 15.116875, 15.1295  , 15.142125,\n",
       "        15.15475 , 15.167375, 15.18    , 15.192625, 15.20525 , 15.217875,\n",
       "        15.2305  , 15.243125, 15.25575 , 15.268375, 15.281   ]),\n",
       " <BarContainer object of 40 artists>)"
      ]
     },
     "execution_count": 10,
     "metadata": {},
     "output_type": "execute_result"
    },
    {
     "data": {
      "image/png": "[encoded data removed]",
      "text/plain": [
       "<Figure size 432x288 with 1 Axes>"
      ]
     },
     "metadata": {},
     "output_type": "display_data"
    }
   ],
   "source": [
    "\n",
    "#정규성 bin수를 늘려보니 정규성 안 나옴\n",
    "plt.hist(df_merge['pressure_HMDS'],bins = 40)"
   ]
  },
  {
   "cell_type": "code",
   "execution_count": 11,
   "id": "1f5467aa",
   "metadata": {},
   "outputs": [
    {
     "name": "stdout",
     "output_type": "stream",
     "text": [
      "0.30673760175704956 \n",
      " 0.0\n"
     ]
    }
   ],
   "source": [
    "\n",
    "\n",
    "\n",
    "\n",
    "fit = ols('defective ~ temp_HMDS', data=df_merge).fit()\n",
    "\n",
    "sqrt_mse = np.sqrt(fit.mse_resid)\n",
    "std_res = fit.resid/sqrt_mse\n",
    "\n",
    "shapiro_test = stats.shapiro(std_res)\n",
    "\n",
    "sw_stat = shapiro_test[0]\n",
    "p_value = shapiro_test[1]\n",
    "print(sw_stat,'\\n' ,p_value)"
   ]
  },
  {
   "cell_type": "code",
   "execution_count": 12,
   "id": "ed3aae95",
   "metadata": {},
   "outputs": [
    {
     "name": "stdout",
     "output_type": "stream",
     "text": [
      "Shapiro-Wilk Test: statistic=0.988737165927887, p-value=4.779187046111133e-10\n",
      "0.0000000005\n"
     ]
    }
   ],
   "source": [
    "\n",
    "\n",
    "shapiro(df_merge['temp_HMDS'])\n",
    "statistic, p = stats.shapiro(df_merge['temp_HMDS'])\n",
    "print('Shapiro-Wilk Test: statistic={}, p-value={}'.format(statistic,p))\n",
    "p = '{:.10f}'.format(p)\n",
    "print(p)"
   ]
  },
  {
   "cell_type": "code",
   "execution_count": 13,
   "id": "5a826884",
   "metadata": {},
   "outputs": [
    {
     "data": {
      "text/plain": [
       "(array([  2.,   0.,   0.,   2.,   4.,   0.,  16.,  11.,   0.,  12.,  23.,\n",
       "          0.,  67., 113.,   0.,  76., 164.,   0., 149., 164.,   0., 175.,\n",
       "          0., 202., 129.,   0., 138.,  91.,   0.,  58.,  29.,   0.,  13.,\n",
       "          2.,   0.,   6.,   6.,   0.,   2.,   4.]),\n",
       " array([19.986  , 19.98665, 19.9873 , 19.98795, 19.9886 , 19.98925,\n",
       "        19.9899 , 19.99055, 19.9912 , 19.99185, 19.9925 , 19.99315,\n",
       "        19.9938 , 19.99445, 19.9951 , 19.99575, 19.9964 , 19.99705,\n",
       "        19.9977 , 19.99835, 19.999  , 19.99965, 20.0003 , 20.00095,\n",
       "        20.0016 , 20.00225, 20.0029 , 20.00355, 20.0042 , 20.00485,\n",
       "        20.0055 , 20.00615, 20.0068 , 20.00745, 20.0081 , 20.00875,\n",
       "        20.0094 , 20.01005, 20.0107 , 20.01135, 20.012  ]),\n",
       " <BarContainer object of 40 artists>)"
      ]
     },
     "execution_count": 13,
     "metadata": {},
     "output_type": "execute_result"
    },
    {
     "data": {
      "image/png": "[encoded data removed]",
      "text/plain": [
       "<Figure size 432x288 with 1 Axes>"
      ]
     },
     "metadata": {},
     "output_type": "display_data"
    }
   ],
   "source": [
    "plt.hist(df_merge['temp_HMDS'],bins = 40)\n"
   ]
  },
  {
   "cell_type": "code",
   "execution_count": 15,
   "id": "aa81f275",
   "metadata": {},
   "outputs": [
    {
     "name": "stdout",
     "output_type": "stream",
     "text": [
      "0.35139501094818115 \n",
      " 0.0\n"
     ]
    }
   ],
   "source": [
    "\n",
    "\n",
    "\n",
    "\n",
    "fit = ols('defective ~ temp_HMDS_bake', data=df_merge).fit()\n",
    "\n",
    "sqrt_mse = np.sqrt(fit.mse_resid)\n",
    "std_res = fit.resid/sqrt_mse\n",
    "\n",
    "shapiro_test = stats.shapiro(std_res)\n",
    "\n",
    "sw_stat = shapiro_test[0]\n",
    "p_value = shapiro_test[1]\n",
    "print(sw_stat,'\\n' ,p_value)\n"
   ]
  },
  {
   "cell_type": "code",
   "execution_count": 16,
   "id": "35954e1a",
   "metadata": {},
   "outputs": [
    {
     "name": "stdout",
     "output_type": "stream",
     "text": [
      "Shapiro-Wilk Test: statistic=0.9929490089416504, p-value=4.0374993659497704e-07\n",
      "0.0000004037\n"
     ]
    }
   ],
   "source": [
    "\n",
    "\n",
    "shapiro(df_merge['temp_HMDS_bake'])\n",
    "statistic, p = stats.shapiro(df_merge['temp_HMDS_bake'])\n",
    "print('Shapiro-Wilk Test: statistic={}, p-value={}'.format(statistic,p))\n",
    "p = '{:.10f}'.format(p)\n",
    "print(p)\n"
   ]
  },
  {
   "cell_type": "code",
   "execution_count": 14,
   "id": "76083a6e",
   "metadata": {},
   "outputs": [
    {
     "data": {
      "text/plain": [
       "(array([  2.,   0.,   0.,   2.,   3.,   4.,  10.,  17.,  15.,  37.,  19.,\n",
       "         43.,  36.,  74., 112.,  71.,  80.,  84.,  92.,  79., 105., 100.,\n",
       "         57.,  94.,  90.,  73.,  80.,  64.,  73.,  50.,  34.,  25.,  18.,\n",
       "          4.,   5.,   2.,   2.,   0.,   0.,   2.]),\n",
       " array([191.209 , 191.6668, 192.1246, 192.5824, 193.0402, 193.498 ,\n",
       "        193.9558, 194.4136, 194.8714, 195.3292, 195.787 , 196.2448,\n",
       "        196.7026, 197.1604, 197.6182, 198.076 , 198.5338, 198.9916,\n",
       "        199.4494, 199.9072, 200.365 , 200.8228, 201.2806, 201.7384,\n",
       "        202.1962, 202.654 , 203.1118, 203.5696, 204.0274, 204.4852,\n",
       "        204.943 , 205.4008, 205.8586, 206.3164, 206.7742, 207.232 ,\n",
       "        207.6898, 208.1476, 208.6054, 209.0632, 209.521 ]),\n",
       " <BarContainer object of 40 artists>)"
      ]
     },
     "execution_count": 14,
     "metadata": {},
     "output_type": "execute_result"
    },
    {
     "data": {
      "image/png": "[encoded data removed]",
      "text/plain": [
       "<Figure size 432x288 with 1 Axes>"
      ]
     },
     "metadata": {},
     "output_type": "display_data"
    }
   ],
   "source": [
    "plt.hist(df_merge['temp_HMDS_bake'],bins = 40)\n"
   ]
  },
  {
   "cell_type": "code",
   "execution_count": null,
   "id": "24dcbf0d",
   "metadata": {},
   "outputs": [],
   "source": [
    "\n",
    "fit = ols('defective ~ time_HMDS_bake', data=df_merge).fit()\n",
    "\n",
    "sqrt_mse = \n",
    "np.sqrt(fit.mse_resid)\n",
    "std_res = fit.resid/sqrt_mse\n",
    "\n",
    "shapiro_test = stats.shapiro(std_res)\n",
    "\n",
    "sw_stat = shapiro_test[0]\n",
    "p_value = shapiro_test[1]\n",
    "print(sw_stat,'\\n' ,p_value)\n"
   ]
  },
  {
   "cell_type": "code",
   "execution_count": null,
   "id": "d4b5affc",
   "metadata": {},
   "outputs": [],
   "source": [
    "\n",
    "\n",
    "shapiro(df_merge['time_HMDS_bake'])\n",
    "statistic, p = stats.shapiro(df_merge['time_HMDS_bake'])\n",
    "print('Shapiro-Wilk Test: statistic={}, p-value={}'.format(statistic,p))\n",
    "p = '{:.10f}'.format(p)\n",
    "print(p)\n"
   ]
  },
  {
   "cell_type": "code",
   "execution_count": 17,
   "id": "49e595c6",
   "metadata": {},
   "outputs": [
    {
     "data": {
      "text/plain": [
       "(array([ 31.,   0.,   0.,   0.,   0.,   0.,   0., 318.,   0.,   0.,   0.,\n",
       "          0.,   0.,   0.,   0.,   0., 861.,   0.,   0.,   0.,   0.,   0.,\n",
       "          0.,   0., 411.,   0.,   0.,   0.,   0.,   0.,   0.,   0.,  36.,\n",
       "          0.,   0.,   0.,   0.,   0.,   0.,   1.]),\n",
       " array([89.998   , 89.998125, 89.99825 , 89.998375, 89.9985  , 89.998625,\n",
       "        89.99875 , 89.998875, 89.999   , 89.999125, 89.99925 , 89.999375,\n",
       "        89.9995  , 89.999625, 89.99975 , 89.999875, 90.      , 90.000125,\n",
       "        90.00025 , 90.000375, 90.0005  , 90.000625, 90.00075 , 90.000875,\n",
       "        90.001   , 90.001125, 90.00125 , 90.001375, 90.0015  , 90.001625,\n",
       "        90.00175 , 90.001875, 90.002   , 90.002125, 90.00225 , 90.002375,\n",
       "        90.0025  , 90.002625, 90.00275 , 90.002875, 90.003   ]),\n",
       " <BarContainer object of 40 artists>)"
      ]
     },
     "execution_count": 17,
     "metadata": {},
     "output_type": "execute_result"
    },
    {
     "data": {
      "image/png": "[encoded data removed]",
      "text/plain": [
       "<Figure size 432x288 with 1 Axes>"
      ]
     },
     "metadata": {},
     "output_type": "display_data"
    }
   ],
   "source": [
    "plt.hist(df_merge['time_HMDS_bake'],bins = 40)\n"
   ]
  },
  {
   "cell_type": "code",
   "execution_count": 19,
   "id": "dd37725a",
   "metadata": {},
   "outputs": [
    {
     "name": "stdout",
     "output_type": "stream",
     "text": [
      "0.3810195326805115 \n",
      " 0.0\n"
     ]
    }
   ],
   "source": [
    "\n",
    "fit = ols('defective ~ photoresist_bake', data=df_merge).fit()\n",
    "\n",
    "sqrt_mse = np.sqrt(fit.mse_resid)\n",
    "std_res = fit.resid/sqrt_mse\n",
    "\n",
    "shapiro_test = stats.shapiro(std_res)\n",
    "\n",
    "sw_stat = shapiro_test[0]\n",
    "p_value = shapiro_test[1]\n",
    "print(sw_stat,'\\n' ,p_value)"
   ]
  },
  {
   "cell_type": "code",
   "execution_count": 20,
   "id": "d0288d96",
   "metadata": {},
   "outputs": [
    {
     "name": "stdout",
     "output_type": "stream",
     "text": [
      "Shapiro-Wilk Test: statistic=0.9926783442497253, p-value=2.4689785504961037e-07\n",
      "0.0000002469\n"
     ]
    }
   ],
   "source": [
    "shapiro(df_merge['photoresist_bake'])\n",
    "statistic, p = stats.shapiro(df_merge['photoresist_bake'])\n",
    "print('Shapiro-Wilk Test: statistic={}, p-value={}'.format(statistic,p))\n",
    "p = '{:.10f}'.format(p)\n",
    "print(p)\n"
   ]
  },
  {
   "cell_type": "code",
   "execution_count": 18,
   "id": "2e620aab",
   "metadata": {},
   "outputs": [
    {
     "data": {
      "text/plain": [
       "(array([  2.,   0.,   0.,   0.,   0.,   4.,   2.,   6.,  12.,  24.,  32.,\n",
       "         27.,  34.,  60.,  66.,  65.,  60.,  65., 104.,  74., 117., 111.,\n",
       "        120.,  94.,  91.,  94.,  68.,  86.,  81.,  67.,  38.,  22.,  14.,\n",
       "          6.,   4.,   4.,   2.,   0.,   0.,   2.]),\n",
       " array([4.765  , 4.77685, 4.7887 , 4.80055, 4.8124 , 4.82425, 4.8361 ,\n",
       "        4.84795, 4.8598 , 4.87165, 4.8835 , 4.89535, 4.9072 , 4.91905,\n",
       "        4.9309 , 4.94275, 4.9546 , 4.96645, 4.9783 , 4.99015, 5.002  ,\n",
       "        5.01385, 5.0257 , 5.03755, 5.0494 , 5.06125, 5.0731 , 5.08495,\n",
       "        5.0968 , 5.10865, 5.1205 , 5.13235, 5.1442 , 5.15605, 5.1679 ,\n",
       "        5.17975, 5.1916 , 5.20345, 5.2153 , 5.22715, 5.239  ]),\n",
       " <BarContainer object of 40 artists>)"
      ]
     },
     "execution_count": 18,
     "metadata": {},
     "output_type": "execute_result"
    },
    {
     "data": {
      "image/png": "[encoded data removed]",
      "text/plain": [
       "<Figure size 432x288 with 1 Axes>"
      ]
     },
     "metadata": {},
     "output_type": "display_data"
    }
   ],
   "source": [
    "plt.hist(df_merge['photoresist_bake'],bins = 40)\n",
    "#우편향"
   ]
  },
  {
   "cell_type": "code",
   "execution_count": 21,
   "id": "c6ba6609",
   "metadata": {},
   "outputs": [
    {
     "name": "stdout",
     "output_type": "stream",
     "text": [
      "0.39236950874328613 \n",
      " 0.0\n"
     ]
    }
   ],
   "source": [
    "fit = ols('defective ~ temp_softbake', data=df_merge).fit()\n",
    "\n",
    "sqrt_mse = np.sqrt(fit.mse_resid)\n",
    "std_res = fit.resid/sqrt_mse\n",
    "\n",
    "shapiro_test = stats.shapiro(std_res)\n",
    "\n",
    "sw_stat = shapiro_test[0]\n",
    "p_value = shapiro_test[1]\n",
    "print(sw_stat,'\\n' ,p_value)"
   ]
  },
  {
   "cell_type": "code",
   "execution_count": 22,
   "id": "66e707f4",
   "metadata": {},
   "outputs": [
    {
     "name": "stdout",
     "output_type": "stream",
     "text": [
      "Shapiro-Wilk Test: statistic=0.9921973943710327, p-value=1.0548087203687828e-07\n",
      "0.0000001055\n"
     ]
    }
   ],
   "source": [
    "shapiro(df_merge['temp_softbake'])\n",
    "statistic, p = stats.shapiro(df_merge['temp_softbake'])\n",
    "print('Shapiro-Wilk Test: statistic={}, p-value={}'.format(statistic,p))\n",
    "p = '{:.10f}'.format(p)\n",
    "print(p)\n"
   ]
  },
  {
   "cell_type": "code",
   "execution_count": 23,
   "id": "a6bb1dac",
   "metadata": {},
   "outputs": [
    {
     "data": {
      "text/plain": [
       "(array([  2.,   0.,   0.,   0.,   0.,   0.,   2.,  10.,  16.,  13.,  24.,\n",
       "         32.,  33.,  70.,  42.,  54.,  44.,  70.,  76., 104., 128., 129.,\n",
       "        117., 110., 114.,  74., 101., 104.,  72.,  28.,  24.,  21.,  22.,\n",
       "          0.,   6.,   4.,   6.,   0.,   4.,   2.]),\n",
       " array([86.498   , 86.751875, 87.00575 , 87.259625, 87.5135  , 87.767375,\n",
       "        88.02125 , 88.275125, 88.529   , 88.782875, 89.03675 , 89.290625,\n",
       "        89.5445  , 89.798375, 90.05225 , 90.306125, 90.56    , 90.813875,\n",
       "        91.06775 , 91.321625, 91.5755  , 91.829375, 92.08325 , 92.337125,\n",
       "        92.591   , 92.844875, 93.09875 , 93.352625, 93.6065  , 93.860375,\n",
       "        94.11425 , 94.368125, 94.622   , 94.875875, 95.12975 , 95.383625,\n",
       "        95.6375  , 95.891375, 96.14525 , 96.399125, 96.653   ]),\n",
       " <BarContainer object of 40 artists>)"
      ]
     },
     "execution_count": 23,
     "metadata": {},
     "output_type": "execute_result"
    },
    {
     "data": {
      "image/png": "[encoded data removed]",
      "text/plain": [
       "<Figure size 432x288 with 1 Axes>"
      ]
     },
     "metadata": {},
     "output_type": "display_data"
    }
   ],
   "source": [
    "plt.hist(df_merge['temp_softbake'],bins = 40)"
   ]
  },
  {
   "cell_type": "code",
   "execution_count": 27,
   "id": "a0af9f4c",
   "metadata": {},
   "outputs": [
    {
     "name": "stdout",
     "output_type": "stream",
     "text": [
      "0.3031502366065979 \n",
      " 0.0\n"
     ]
    }
   ],
   "source": [
    "fit = ols('defective ~ time_softbake', data=df_merge).fit()\n",
    "\n",
    "sqrt_mse = np.sqrt(fit.mse_resid)\n",
    "std_res = fit.resid/sqrt_mse\n",
    "\n",
    "shapiro_test = stats.shapiro(std_res)\n",
    "\n",
    "sw_stat = shapiro_test[0]\n",
    "p_value = shapiro_test[1]\n",
    "print(sw_stat,'\\n' ,p_value)"
   ]
  },
  {
   "cell_type": "code",
   "execution_count": 25,
   "id": "81ec5128",
   "metadata": {},
   "outputs": [
    {
     "name": "stdout",
     "output_type": "stream",
     "text": [
      "Shapiro-Wilk Test: statistic=0.9957526922225952, p-value=0.00012953615805599838\n",
      "0.0001295362\n"
     ]
    }
   ],
   "source": [
    "shapiro(df_merge['time_softbake'])\n",
    "statistic, p = stats.shapiro(df_merge['time_softbake'])\n",
    "print('Shapiro-Wilk Test: statistic={}, p-value={}'.format(statistic,p))\n",
    "p = '{:.10f}'.format(p)\n",
    "print(p)"
   ]
  },
  {
   "cell_type": "code",
   "execution_count": 26,
   "id": "f00cc128",
   "metadata": {},
   "outputs": [
    {
     "data": {
      "text/plain": [
       "(array([  4.,   2.,   5.,   5.,   7.,  21.,  24.,  34.,  30.,  24.,  44.,\n",
       "         59.,  65.,  77., 105.,  88., 106.,  93., 110., 108., 104.,  90.,\n",
       "        115.,  80.,  45.,  27.,  40.,  42.,  43.,  15.,  15.,  18.,   3.,\n",
       "          5.,   3.,   0.,   0.,   0.,   0.,   2.]),\n",
       " array([29.982   , 29.983025, 29.98405 , 29.985075, 29.9861  , 29.987125,\n",
       "        29.98815 , 29.989175, 29.9902  , 29.991225, 29.99225 , 29.993275,\n",
       "        29.9943  , 29.995325, 29.99635 , 29.997375, 29.9984  , 29.999425,\n",
       "        30.00045 , 30.001475, 30.0025  , 30.003525, 30.00455 , 30.005575,\n",
       "        30.0066  , 30.007625, 30.00865 , 30.009675, 30.0107  , 30.011725,\n",
       "        30.01275 , 30.013775, 30.0148  , 30.015825, 30.01685 , 30.017875,\n",
       "        30.0189  , 30.019925, 30.02095 , 30.021975, 30.023   ]),\n",
       " <BarContainer object of 40 artists>)"
      ]
     },
     "execution_count": 26,
     "metadata": {},
     "output_type": "execute_result"
    },
    {
     "data": {
      "image/png": "[encoded data removed]",
      "text/plain": [
       "<Figure size 432x288 with 1 Axes>"
      ]
     },
     "metadata": {},
     "output_type": "display_data"
    }
   ],
   "source": [
    "plt.hist(df_merge['time_softbake'],bins = 40)"
   ]
  },
  {
   "cell_type": "code",
   "execution_count": 31,
   "id": "06bec007",
   "metadata": {},
   "outputs": [
    {
     "name": "stdout",
     "output_type": "stream",
     "text": [
      "0.3031502366065979 \n",
      " 0.0\n"
     ]
    }
   ],
   "source": [
    "fit = ols('defective ~ time_softbake', data=df_merge).fit()\n",
    "\n",
    "sqrt_mse = np.sqrt(fit.mse_resid)\n",
    "std_res = fit.resid/sqrt_mse\n",
    "\n",
    "shapiro_test = stats.shapiro(std_res)\n",
    "\n",
    "sw_stat = shapiro_test[0]\n",
    "p_value = shapiro_test[1]\n",
    "print(sw_stat,'\\n' ,p_value)"
   ]
  },
  {
   "cell_type": "code",
   "execution_count": 32,
   "id": "f3cd9e2c",
   "metadata": {},
   "outputs": [
    {
     "name": "stdout",
     "output_type": "stream",
     "text": [
      "Shapiro-Wilk Test: statistic=0.9957526922225952, p-value=0.00012953615805599838\n",
      "0.0001295362\n"
     ]
    }
   ],
   "source": [
    "shapiro(df_merge['time_softbake'])\n",
    "statistic, p = stats.shapiro(df_merge['time_softbake'])\n",
    "print('Shapiro-Wilk Test: statistic={}, p-value={}'.format(statistic,p))\n",
    "p = '{:.10f}'.format(p)\n",
    "print(p)"
   ]
  },
  {
   "cell_type": "code",
   "execution_count": 33,
   "id": "b11b7dad",
   "metadata": {},
   "outputs": [
    {
     "data": {
      "text/plain": [
       "(array([  4.,   2.,   5.,   5.,   7.,  21.,  24.,  34.,  30.,  24.,  44.,\n",
       "         59.,  65.,  77., 105.,  88., 106.,  93., 110., 108., 104.,  90.,\n",
       "        115.,  80.,  45.,  27.,  40.,  42.,  43.,  15.,  15.,  18.,   3.,\n",
       "          5.,   3.,   0.,   0.,   0.,   0.,   2.]),\n",
       " array([29.982   , 29.983025, 29.98405 , 29.985075, 29.9861  , 29.987125,\n",
       "        29.98815 , 29.989175, 29.9902  , 29.991225, 29.99225 , 29.993275,\n",
       "        29.9943  , 29.995325, 29.99635 , 29.997375, 29.9984  , 29.999425,\n",
       "        30.00045 , 30.001475, 30.0025  , 30.003525, 30.00455 , 30.005575,\n",
       "        30.0066  , 30.007625, 30.00865 , 30.009675, 30.0107  , 30.011725,\n",
       "        30.01275 , 30.013775, 30.0148  , 30.015825, 30.01685 , 30.017875,\n",
       "        30.0189  , 30.019925, 30.02095 , 30.021975, 30.023   ]),\n",
       " <BarContainer object of 40 artists>)"
      ]
     },
     "execution_count": 33,
     "metadata": {},
     "output_type": "execute_result"
    },
    {
     "data": {
      "image/png": "[encoded data removed]",
      "text/plain": [
       "<Figure size 432x288 with 1 Axes>"
      ]
     },
     "metadata": {},
     "output_type": "display_data"
    }
   ],
   "source": [
    "plt.hist(df_merge['time_softbake'],bins = 40)"
   ]
  },
  {
   "cell_type": "code",
   "execution_count": 34,
   "id": "e7159ea9",
   "metadata": {},
   "outputs": [],
   "source": [
    "Photo_softbake:['N2_HMDS', 'pressure_HMDS', 'temp_HMDS',\n",
    "       'temp_HMDS_bake', 'time_HMDS_bake', 'spin1', 'spin2', 'spin3',\n",
    "       'photoresist_bake', 'temp_softbake', 'time_softbake']\n",
    "    #순 11개"
   ]
  },
  {
   "cell_type": "code",
   "execution_count": null,
   "id": "93dcc796",
   "metadata": {},
   "outputs": [],
   "source": []
  }
 ],
 "metadata": {
  "kernelspec": {
   "display_name": "Python 3 (ipykernel)",
   "language": "python",
   "name": "python3"
  },
  "language_info": {
   "codemirror_mode": {
    "name": "ipython",
    "version": 3
   },
   "file_extension": ".py",
   "mimetype": "text/x-python",
   "name": "python",
   "nbconvert_exporter": "python",
   "pygments_lexer": "ipython3",
   "version": "3.9.7"
  }
 },
 "nbformat": 4,
 "nbformat_minor": 5
}
